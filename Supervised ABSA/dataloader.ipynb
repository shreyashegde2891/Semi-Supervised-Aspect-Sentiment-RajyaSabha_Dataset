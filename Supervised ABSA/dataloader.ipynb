{
 "cells": [
  {
   "cell_type": "code",
   "execution_count": 2,
   "metadata": {},
   "outputs": [
    {
     "name": "stdout",
     "output_type": "stream",
     "text": [
      "importing Jupyter notebook from utils.ipynb\n"
     ]
    }
   ],
   "source": [
    "import os\n",
    "import import_ipynb\n",
    "from utils import pickle_load"
   ]
  },
  {
   "cell_type": "code",
   "execution_count": 5,
   "metadata": {},
   "outputs": [],
   "source": [
    "def load_input(data_folder, data_kind, level, use_text_input, use_text_input_l, use_text_input_r,\n",
    "                    use_text_input_r_with_pad, use_aspect_input, use_aspect_text_input, use_loc_input,\n",
    "                    use_offset_input, use_mask):\n",
    "    dirname = os.path.join('./data', data_folder)\n",
    "    input_data = []\n",
    "    if use_text_input:\n",
    "        input_data.append(pickle_load(os.path.join(dirname, '{}_{}_input.pkl'.format(data_kind, level))))\n",
    "    if use_text_input_l:\n",
    "        input_data.append(pickle_load(os.path.join(dirname, '{}_{}_input_l.pkl'.format(data_kind, level))))\n",
    "    if use_text_input_r:\n",
    "        input_data.append(pickle_load(os.path.join(dirname, '{}_{}_input_r.pkl'.format(data_kind, level))))\n",
    "    if use_text_input_r_with_pad:\n",
    "        input_data.append(pickle_load(os.path.join(dirname, '{}_{}_input_r_with_pad.pkl'.format(data_kind, level))))\n",
    "    if use_aspect_input:\n",
    "        input_data.append(pickle_load(os.path.join(dirname, '{}_aspect_input.pkl'.format(data_kind))))\n",
    "    if use_aspect_text_input:\n",
    "        input_data.append(pickle_load(os.path.join(dirname, '{}_{}_aspect_input.pkl'.format(data_kind, level))))\n",
    "    if use_loc_input:\n",
    "        input_data.append(pickle_load(os.path.join(dirname, '{}_{}_pos_input.pkl'.format(data_kind, level))))\n",
    "    if use_offset_input:\n",
    "        input_data.append(pickle_load(os.path.join(dirname, '{}_{}_offset_input.pkl'.format(data_kind, level))))\n",
    "    if use_mask:\n",
    "        input_data.append(pickle_load(os.path.join(dirname, '{}_{}_mask.pkl'.format(data_kind, level))))\n",
    "    if len(input_data) == 1:\n",
    "        input_data = input_data[0]\n",
    "    if len(input_data) == 0:\n",
    "        raise Exception('No Input!')\n",
    "    return input_data\n"
   ]
  },
  {
   "cell_type": "code",
   "execution_count": 7,
   "metadata": {},
   "outputs": [],
   "source": [
    "def load_label(data_folder, data_kind):\n",
    "    dirname = os.path.join('./data', data_folder)\n",
    "    return pickle_load(os.path.join(dirname, '{}_label.pkl'.format(data_kind)))\n",
    "\n",
    "\n",
    "def load_vocab(data_folder, vocab_type):\n",
    "    dirname = os.path.join('./data', data_folder)\n",
    "    return pickle_load(os.path.join(dirname, vocab_type+'_vocab.pkl'))\n",
    "\n",
    "\n",
    "def load_token(data_folder, vocab_type):\n",
    "    vocab = load_vocab(data_folder, vocab_type)\n",
    "    return dict((idx, word) for word, idx in vocab.items())"
   ]
  },
  {
   "cell_type": "code",
   "execution_count": null,
   "metadata": {},
   "outputs": [],
   "source": []
  }
 ],
 "metadata": {
  "kernelspec": {
   "display_name": "Python 3",
   "language": "python",
   "name": "python3"
  },
  "language_info": {
   "codemirror_mode": {
    "name": "ipython",
    "version": 3
   },
   "file_extension": ".py",
   "mimetype": "text/x-python",
   "name": "python",
   "nbconvert_exporter": "python",
   "pygments_lexer": "ipython3",
   "version": "3.6.5"
  }
 },
 "nbformat": 4,
 "nbformat_minor": 2
}
