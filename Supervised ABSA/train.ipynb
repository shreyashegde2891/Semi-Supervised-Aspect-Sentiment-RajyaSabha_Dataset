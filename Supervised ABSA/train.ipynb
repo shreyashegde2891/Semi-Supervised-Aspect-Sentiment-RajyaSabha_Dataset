{
 "cells": [
  {
   "cell_type": "code",
   "execution_count": null,
   "metadata": {},
   "outputs": [],
   "source": [
    "import os\n",
    "import time\n",
    "import import_ipynb\n",
    "from config import Config\n",
    "from dataloader import load_input, load_label\n",
    "from models import SentimentModel"
   ]
  },
  {
   "cell_type": "code",
   "execution_count": null,
   "metadata": {},
   "outputs": [],
   "source": [
    "config = Config()\n",
    "config.word_embed_trainable = True\n",
    "config.aspect_embed_trainable = True"
   ]
  },
  {
   "cell_type": "code",
   "execution_count": null,
   "metadata": {},
   "outputs": [],
   "source": [
    "def train_model(data_dir, data_name, level, modelName, is_aspect_term=True):\n",
    "    config.data_dir = data_dir\n",
    "    config.data_name = data_name\n",
    "    if not os.path.exists(os.path.join(config.checkpoint_dir, data_dir)):\n",
    "        os.makedirs(os.path.join(config.checkpoint_dir, data_dir))\n",
    "    config.level = level\n",
    "    config.modelName = modelName\n",
    "    config.is_aspect_term = is_aspect_term\n",
    "    config.init_input()\n",
    "    config.exp_name = '{}_{}_wv_{}'.format(modelName, level, config.word_embed_type)\n",
    "    config.exp_name = config.exp_name + '_update' if config.word_embed_trainable else config.exp_name + '_fix'\n",
    "    if config.use_aspect_input:\n",
    "        config.exp_name += '_aspv_{}'.format(config.aspect_embed_type)\n",
    "        config.exp_name = config.exp_name + '_update' if config.aspect_embed_trainable else config.exp_name + '_fix'\n",
    "\n",
    "\n",
    "    print(config.exp_name)\n",
    "    model = SentimentModel(config)\n",
    "    \n",
    "    test_input = load_input(data_dir, 'test', level, config.use_text_input, config.use_text_input_l,\n",
    "                                 config.use_text_input_r, config.use_text_input_r_with_pad, config.use_aspect_input,\n",
    "                                 config.use_aspect_text_input, config.use_loc_input, config.use_offset_input,\n",
    "                                 config.use_mask)\n",
    "    test_label = load_label(data_dir, 'test')\n",
    "\n",
    "    #if not os.path.exists(os.path.join(config.checkpoint_dir, '%s/%s.hdf5' % (data_dir, config.exp_name))):\n",
    "    start_time = time.time()\n",
    "\n",
    "    train_input = load_input(data_dir, 'train', level, config.use_text_input, config.use_text_input_l,\n",
    "                                      config.use_text_input_r, config.use_text_input_r_with_pad,\n",
    "                                      config.use_aspect_input, config.use_aspect_text_input, config.use_loc_input,\n",
    "                                      config.use_offset_input, config.use_mask)\n",
    "    train_label = load_label(data_dir, 'train')\n",
    "\n",
    "\n",
    "    model.train(train_input, train_label, test_input, test_label)\n",
    "\n",
    "    #elapsed_time = time.time() - start_time\n",
    "    #print('training time:', time.strftime(\"%H:%M:%S\", time.gmtime(elapsed_time)))\n",
    "\n",
    "    # load the best model\n",
    "    model.load()\n",
    "   \n",
    "    print('score over test data...')\n",
    "    model.score(test_input, test_label)\n",
    "    "
   ]
  },
  {
   "cell_type": "markdown",
   "metadata": {},
   "source": [
    "<b> Train Models based on Word2vec Embedding </b>"
   ]
  },
  {
   "cell_type": "code",
   "execution_count": null,
   "metadata": {},
   "outputs": [],
   "source": [
    "#word2vec\n",
    "train_model('./', 'data', 'word', 'tc_lstm')"
   ]
  },
  {
   "cell_type": "code",
   "execution_count": null,
   "metadata": {},
   "outputs": [],
   "source": [
    "#word2vec\n",
    "train_model('./', 'data', 'word', 'td_lstm')"
   ]
  },
  {
   "cell_type": "code",
   "execution_count": null,
   "metadata": {},
   "outputs": [],
   "source": [
    "#word2vec\n",
    "train_model('./', 'data', 'word', 'atae_lstm')"
   ]
  },
  {
   "cell_type": "code",
   "execution_count": null,
   "metadata": {},
   "outputs": [],
   "source": [
    "#word2vec\n",
    "train_model('./', 'data', 'word', 'memnet')"
   ]
  },
  {
   "cell_type": "markdown",
   "metadata": {},
   "source": [
    "<b> Trained models using GloVE Embeddings </b>"
   ]
  },
  {
   "cell_type": "code",
   "execution_count": null,
   "metadata": {},
   "outputs": [],
   "source": [
    "##Memnet glove\n",
    "train_model('./', 'data', 'word', 'memnet')"
   ]
  },
  {
   "cell_type": "code",
   "execution_count": null,
   "metadata": {},
   "outputs": [],
   "source": [
    "train_model('./', 'data', 'word', 'tc_lstm')"
   ]
  },
  {
   "cell_type": "code",
   "execution_count": null,
   "metadata": {},
   "outputs": [],
   "source": [
    "train_model('./', 'data', 'word', 'td_lstm')"
   ]
  },
  {
   "cell_type": "code",
   "execution_count": null,
   "metadata": {},
   "outputs": [],
   "source": [
    "train_model('./', 'data', 'word', 'atae_lstm')"
   ]
  },
  {
   "cell_type": "code",
   "execution_count": null,
   "metadata": {},
   "outputs": [],
   "source": []
  },
  {
   "cell_type": "code",
   "execution_count": null,
   "metadata": {},
   "outputs": [],
   "source": []
  }
 ],
 "metadata": {
  "kernelspec": {
   "display_name": "Python 3",
   "language": "python",
   "name": "python3"
  },
  "language_info": {
   "codemirror_mode": {
    "name": "ipython",
    "version": 3
   },
   "file_extension": ".py",
   "mimetype": "text/x-python",
   "name": "python",
   "nbconvert_exporter": "python",
   "pygments_lexer": "ipython3",
   "version": "3.7.0"
  }
 },
 "nbformat": 4,
 "nbformat_minor": 2
}
