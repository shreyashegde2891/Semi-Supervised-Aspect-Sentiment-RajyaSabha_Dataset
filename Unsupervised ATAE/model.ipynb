{
 "cells": [
  {
   "cell_type": "code",
   "execution_count": 9,
   "metadata": {},
   "outputs": [],
   "source": [
    "import logging\n",
    "\n",
    "import keras.backend as K\n",
    "from keras.layers import Dense, Activation, Embedding, Input\n",
    "from keras.models import Model\n",
    "import import_ipynb\n",
    "from custom_layers import Attention_Layer, Average_Layer, WeightedSum_Layer, WeightedAspectEmb_Layer, MaxMargin_Layer\n",
    "from w2v_emb_reader import Word2VecEmbReader as W2VEmbReader\n",
    "\n",
    "logging.basicConfig(level=logging.INFO, format='%(asctime)s %(levelname)s %(message)s')\n",
    "logger = logging.getLogger(__name__)"
   ]
  },
  {
   "cell_type": "code",
   "execution_count": 10,
   "metadata": {},
   "outputs": [],
   "source": [
    "def create_model(args, maxlen, vocab):\n",
    "\n",
    "    def ortho_reg(weight_matrix):\n",
    "        # orthogonal regularization for aspect embedding matrix\n",
    "        w_n = weight_matrix / K.cast(K.epsilon() + K.sqrt(K.sum(K.square(weight_matrix), axis=-1, keepdims=True)),\n",
    "                                     K.floatx())\n",
    "        reg = K.sum(K.square(K.dot(w_n, K.transpose(w_n)) - K.eye(w_n.shape.as_list()[0])))\n",
    "\n",
    "        return args.ortho_reg * reg\n",
    "\n",
    "    vocab_size = len(vocab)\n",
    "\n",
    "\n",
    "    sentence_input = Input(shape=(maxlen,), dtype='int32', name='sentence_input')\n",
    "    neg_input = Input(shape=(args.neg_size, maxlen), dtype='int32', name='neg_input')\n",
    "\n",
    "    # Construct word embedding layer\n",
    "    word_emb = Embedding(vocab_size, args.emb_dim, mask_zero=True, name='word_emb')\n",
    "\n",
    "    # Compute sentence representation\n",
    "    e_w = word_emb(sentence_input)\n",
    "    y_s = Average_Layer()(e_w)\n",
    "    att_weights = Attention_Layer(name='att_weights')([e_w, y_s])\n",
    "    z_s = WeightedSum_Layer()([e_w, att_weights])\n",
    "\n",
    "    # Compute representations of negative instances\n",
    "    e_neg = word_emb(neg_input)\n",
    "    z_n = Average_Layer()(e_neg)\n",
    "\n",
    "    # Reconstruction\n",
    "    p_t = Dense(args.aspect_size)(z_s)\n",
    "    p_t = Activation('softmax', name='p_t')(p_t)\n",
    "    r_s = WeightedAspectEmb_Layer(args.aspect_size, args.emb_dim, name='aspect_emb',\n",
    "                            W_regularizer=ortho_reg)(p_t)\n",
    "\n",
    "    # Loss\n",
    "    loss = MaxMargin_Layer(name='max_margin')([z_s, z_n, r_s])\n",
    "    model = Model(inputs=[sentence_input, neg_input], outputs=loss)\n",
    "\n",
    "    # Word embedding and aspect embedding initialization\n",
    "    if args.emb_path:\n",
    "        emb_reader = W2VEmbReader(args.emb_path, emb_dim=args.emb_dim)\n",
    "        logger.info('Initializing word embedding matrix')\n",
    "        K.set_value(\n",
    "            model.get_layer('word_emb').embeddings,\n",
    "            emb_reader.get_emb_matrix_from_vocab(vocab, K.get_value(model.get_layer('word_emb').embeddings)))\n",
    "        logger.info('Initializing aspect embedding matrix as centroid of kmean clusters')\n",
    "        K.set_value(\n",
    "            model.get_layer('aspect_emb').W,\n",
    "            emb_reader.get_aspect_matrix(args.aspect_size))\n",
    "\n",
    "    return model"
   ]
  },
  {
   "cell_type": "code",
   "execution_count": null,
   "metadata": {},
   "outputs": [],
   "source": []
  }
 ],
 "metadata": {
  "kernelspec": {
   "display_name": "Python 3",
   "language": "python",
   "name": "python3"
  },
  "language_info": {
   "codemirror_mode": {
    "name": "ipython",
    "version": 3
   },
   "file_extension": ".py",
   "mimetype": "text/x-python",
   "name": "python",
   "nbconvert_exporter": "python",
   "pygments_lexer": "ipython3",
   "version": "3.6.5"
  }
 },
 "nbformat": 4,
 "nbformat_minor": 2
}
