{
 "cells": [
  {
   "cell_type": "code",
   "execution_count": null,
   "metadata": {},
   "outputs": [],
   "source": [
    "import nltk\n",
    "nltk.download('stopwords')"
   ]
  },
  {
   "cell_type": "code",
   "execution_count": null,
   "metadata": {},
   "outputs": [],
   "source": [
    "import pandas as pd\n",
    "import numpy as np\n",
    "\n",
    "\n",
    "import string\n",
    "import re\n",
    "from pprint import pprint\n",
    "\n",
    "# NLTK \n",
    "from nltk.corpus import stopwords\n",
    "from nltk.stem.wordnet import WordNetLemmatizer\n",
    "from nltk.corpus import stopwords\n",
    "stop_words = stopwords.words('english') #this depends on each language\n",
    "\n",
    "# Gensim\n",
    "import gensim\n",
    "import gensim.corpora as corpora\n",
    "from gensim.utils import simple_preprocess\n",
    "from gensim.models import CoherenceModel\n",
    "\n",
    "# spacy for lemmatization\n",
    "import spacy\n",
    "\n",
    "# Plotting tools\n",
    "import pyLDAvis\n",
    "import pyLDAvis.gensim  \n",
    "import matplotlib.pyplot as plt\n",
    "%matplotlib inline\n",
    "\n",
    "# Enable logging for gensim - optional\n",
    "import logging\n",
    "logging.basicConfig(format='%(asctime)s : %(levelname)s : %(message)s', level=logging.ERROR)\n",
    "np.random.seed(2020)\n",
    "import warnings\n",
    "warnings.filterwarnings(\"ignore\",category=DeprecationWarning)"
   ]
  },
  {
   "cell_type": "code",
   "execution_count": null,
   "metadata": {},
   "outputs": [],
   "source": [
    "import argparse\n",
    "import logging\n",
    "import numpy as np\n",
    "from time import time\n",
    "import import_ipynb\n",
    "import utils as U\n",
    "import codecs\n",
    "\n",
    "logging.basicConfig(\n",
    "    # filename='out.log',\n",
    "    level=logging.INFO,\n",
    "    format='%(asctime)s %(levelname)s %(message)s')\n",
    "logger = logging.getLogger(__name__)"
   ]
  },
  {
   "cell_type": "markdown",
   "metadata": {},
   "source": [
    "Build bigram trigram set similar to the one used for training"
   ]
  },
  {
   "cell_type": "code",
   "execution_count": null,
   "metadata": {},
   "outputs": [],
   "source": [
    "col_names = ['question_description','primary_question']#,'question_type','question_description','question_title','answer','answer_date','ministry']\n",
    "df = pd.read_csv('input_csv/train.csv',names=col_names,skiprows = 1)"
   ]
  },
  {
   "cell_type": "code",
   "execution_count": null,
   "metadata": {},
   "outputs": [],
   "source": [
    "BAD_CHARS = ['(?) ?????']\n",
    "pat = '|'.join(['({})'.format(re.escape(c)) for c in BAD_CHARS])\n",
    "df = df[~df['primary_question'].str.contains(pat)]"
   ]
  },
  {
   "cell_type": "code",
   "execution_count": null,
   "metadata": {},
   "outputs": [],
   "source": [
    "from nltk.corpus import stopwords\n",
    "stop_words = stopwords.words('english')\n",
    "stop_words.extend(['whether','government','governments','fact','aware','ministry','ministries'])"
   ]
  },
  {
   "cell_type": "code",
   "execution_count": null,
   "metadata": {},
   "outputs": [],
   "source": [
    "data = df.primary_question.values.tolist()\n",
    "#print(data)\n",
    "data = [re.sub('\\s+', ' ', sent) for sent in data]\n",
    "data = [re.sub(\"\\'\", \"\", sent) for sent in data]"
   ]
  },
  {
   "cell_type": "code",
   "execution_count": null,
   "metadata": {},
   "outputs": [],
   "source": [
    "def sent_to_words(sentences):\n",
    "    for sentence in sentences:\n",
    "        yield(gensim.utils.simple_preprocess(str(sentence), deacc=True))  # deacc=True removes punctuations\n",
    "\n",
    "data_words = list(sent_to_words(data))\n"
   ]
  },
  {
   "cell_type": "code",
   "execution_count": null,
   "metadata": {},
   "outputs": [],
   "source": [
    "# Build the bigram and trigram models\n",
    "bigram = gensim.models.Phrases(data_words, min_count=5, threshold=1000) # higher threshold fewer phrases.\n",
    "trigram = gensim.models.Phrases(bigram[data_words], threshold=1000)  \n",
    "\n",
    "# Faster way to get a sentence clubbed as a trigram/bigram\n",
    "bigram_mod = gensim.models.phrases.Phraser(bigram)\n",
    "trigram_mod = gensim.models.phrases.Phraser(trigram)\n",
    "\n",
    "# See trigram example\n",
    "#print(trigram_mod[bigram_mod[data_words[0]]])"
   ]
  },
  {
   "cell_type": "code",
   "execution_count": null,
   "metadata": {},
   "outputs": [],
   "source": [
    "# Define functions for stopwords, bigrams, trigrams and lemmatization\n",
    "def remove_stopwords(texts):\n",
    "    return [[word for word in simple_preprocess(str(doc)) if word not in stop_words] for doc in texts]\n",
    "\n",
    "def make_bigrams(texts):\n",
    "    return [bigram_mod[doc] for doc in texts]\n",
    "\n",
    "def make_trigrams(texts):\n",
    "    return [trigram_mod[bigram_mod[doc]] for doc in texts]\n",
    "\n",
    "def lemmatization(texts, allowed_postags=['NOUN', 'ADJ', 'VERB', 'ADV']):\n",
    "    \"\"\"https://spacy.io/api/annotation\"\"\"\n",
    "    texts_out = []\n",
    "    for sent in texts:\n",
    "        doc = nlp(\" \".join(sent)) \n",
    "        texts_out.append([token.lemma_ for token in doc])# if token.pos_ in allowed_postags])\n",
    "    return texts_out"
   ]
  },
  {
   "cell_type": "markdown",
   "metadata": {},
   "source": [
    "<b> For top 20 aspect terms </b>"
   ]
  },
  {
   "cell_type": "code",
   "execution_count": null,
   "metadata": {},
   "outputs": [],
   "source": [
    "df_top20 = pd.read_csv('output_dir/top20_QA_set.csv',engine='python')\n",
    "# df_top20.head(5)"
   ]
  },
  {
   "cell_type": "code",
   "execution_count": null,
   "metadata": {},
   "outputs": [],
   "source": [
    "data_test = df_top20.primary_question.values.tolist()\n",
    "data_test = [re.sub('\\s+', ' ', sent) for sent in data_test]\n",
    "data_test = [re.sub(\"\\'\", \"\", sent) for sent in data_test]\n",
    "data_test_words = list(sent_to_words(data_test))\n",
    "data_words_nostops_test = remove_stopwords(data_test_words)\n",
    "\n",
    "# Form Bigrams\n",
    "data_words_bigrams_test = make_trigrams(data_words_nostops_test)\n",
    "string_list = [' '.join(word) for word in data_words_bigrams_test]\n",
    "with codecs.open('test.txt', 'w','utf-8') as f:\n",
    "    for item in string_list:\n",
    "        print (item ,file=f)"
   ]
  },
  {
   "cell_type": "code",
   "execution_count": null,
   "metadata": {},
   "outputs": [],
   "source": [
    "parser = argparse.ArgumentParser()\n",
    "parser.add_argument(\"-o\", \"--out-dir\", dest=\"out_dir_path\", type=str, metavar='<str>', required=True,\n",
    "                    help=\"The path to the output directory\")\n",
    "parser.add_argument(\"-e\", \"--embdim\", dest=\"emb_dim\", type=int, metavar='<int>', default=200,\n",
    "                    help=\"Embeddings dimension (default=200)\")\n",
    "parser.add_argument(\"-b\", \"--batch-size\", dest=\"batch_size\", type=int, metavar='<int>', default=8,\n",
    "                    help=\"Batch size (default=8)\")\n",
    "parser.add_argument(\"-v\", \"--vocab-size\", dest=\"vocab_size\", type=int, metavar='<int>', default=9000,\n",
    "                    help=\"Vocab size. '0' means no limit (default=9000)\")\n",
    "parser.add_argument(\"-as\", \"--aspect-size\", dest=\"aspect_size\", type=int, metavar='<int>', default=14,\n",
    "                    help=\"The number of aspects specified by users (default=14)\")\n",
    "parser.add_argument(\"--emb\", dest=\"emb_path\", type=str, metavar='<str>', help=\"The path to the word embeddings file\")\n",
    "parser.add_argument(\"--epochs\", dest=\"epochs\", type=int, metavar='<int>', default=10,\n",
    "                    help=\"Number of epochs (default=10)\")\n",
    "parser.add_argument(\"-n\", \"--neg-size\", dest=\"neg_size\", type=int, metavar='<int>', default=4,\n",
    "                    help=\"Number of negative instances (default=4)\")\n",
    "parser.add_argument(\"--maxlen\", dest=\"maxlen\", type=int, metavar='<int>', default=0,\n",
    "                    help=\"Maximum allowed number of words during training. '0' means no limit (default=0)\")\n",
    "parser.add_argument(\"--seed\", dest=\"seed\", type=int, metavar='<int>', default=1234, help=\"Random seed (default=1234)\")\n",
    "parser.add_argument(\"-a\", \"--algorithm\", dest=\"algorithm\", type=str, metavar='<str>', default='adam',\n",
    "                    help=\"Optimization algorithm (rmsprop|sgd|adagrad|adadelta|adam|adamax) (default=adam)\")\n",
    "parser.add_argument(\"--ortho-reg\", dest=\"ortho_reg\", type=float, metavar='<float>', default=0.1,\n",
    "                    help=\"The weight of orthogonol regularizaiton (default=0.1)\")"
   ]
  },
  {
   "cell_type": "code",
   "execution_count": null,
   "metadata": {},
   "outputs": [],
   "source": [
    "args = parser.parse_args(\"--emb w2v_embedding --aspect-size 18 -o output_dir --epochs 50 --batch-size 512 --neg-size 1 --algorithm adam --vocab-size 0\".split())\n",
    "out_dir = args.out_dir_path\n",
    "U.mkdir_p(out_dir)\n",
    "U.print_args(args)"
   ]
  },
  {
   "cell_type": "code",
   "execution_count": null,
   "metadata": {},
   "outputs": [],
   "source": [
    "from keras.preprocessing import sequence\n",
    "import reader as dataset"
   ]
  },
  {
   "cell_type": "code",
   "execution_count": null,
   "metadata": {},
   "outputs": [],
   "source": [
    "vocab, train_x, test_x, overall_maxlen = dataset.fetch_data(vocab_size=args.vocab_size, maxlen=args.maxlen)\n",
    "test_x = sequence.pad_sequences(test_x, maxlen=overall_maxlen)"
   ]
  },
  {
   "cell_type": "code",
   "execution_count": null,
   "metadata": {},
   "outputs": [],
   "source": [
    "from model import create_model\n",
    "import keras.backend as K\n",
    "from optimizers import get_optimizer"
   ]
  },
  {
   "cell_type": "code",
   "execution_count": null,
   "metadata": {},
   "outputs": [],
   "source": [
    "def max_margin_loss(y_true, y_pred):\n",
    "    return K.mean(y_pred)\n",
    "\n",
    "optimizer = get_optimizer(args)\n",
    "model = create_model(args, overall_maxlen, vocab)\n",
    "\n",
    "## Load the save model parameters\n",
    "model.load_weights(out_dir + '/model_param_adamlr1')\n",
    "model.compile(optimizer=optimizer, loss=max_margin_loss, metrics=[max_margin_loss])"
   ]
  },
  {
   "cell_type": "code",
   "execution_count": null,
   "metadata": {},
   "outputs": [],
   "source": [
    "vocab_inv = {}\n",
    "for w, ind in vocab.items():\n",
    "    vocab_inv[ind] = w\n",
    "\n",
    "test_fn = K.function([model.get_layer('sentence_input').input, K.learning_phase()],\n",
    "                     [model.get_layer('att_weights').output, model.get_layer('p_t').output])\n",
    "att_weights, aspect_probs = test_fn([test_x, 0])\n"
   ]
  },
  {
   "cell_type": "code",
   "execution_count": null,
   "metadata": {},
   "outputs": [],
   "source": [
    "def Sort_Tuple(tup):\n",
    "    return(sorted(tup, key = lambda x: x[1],reverse=True))"
   ]
  },
  {
   "cell_type": "code",
   "execution_count": null,
   "metadata": {},
   "outputs": [],
   "source": [
    "att_write = codecs.open(out_dir + '/att_weights_top20', 'w', 'utf-8')\n",
    "aspect_word = []\n",
    "\n",
    "list_of_words = []\n",
    "for c in range(len(test_x)):\n",
    "\n",
    "    att_write.write('----------------------------------------\\n')\n",
    "    att_write.write(str(c) + '\\n')\n",
    "    set_words = []\n",
    "    word_index = [i for i in test_x[c] if i != 0]\n",
    "    line_len = len(word_index)\n",
    "    weights = att_weights[c]\n",
    "    weights = weights[(overall_maxlen - line_len):]\n",
    "    words = [vocab_inv[i] for i in word_index]\n",
    "    att_write.write(' '.join(words) + '\\n')\n",
    "    list_of_words.append(words)\n",
    "    for j in range(len(words)):\n",
    "        att_write.write(words[j] + ' ' + str(round(weights[j], 3)) + '\\n')\n",
    "        set_words.append(tuple((words[j],round(weights[j], 3))))\n",
    "        set_words = Sort_Tuple(set_words)\n",
    "        res = [lis[0] for lis in set_words]\n",
    "    aspect_word.append(res)"
   ]
  },
  {
   "cell_type": "code",
   "execution_count": null,
   "metadata": {},
   "outputs": [],
   "source": [
    "# print(len(aspect_word))\n",
    "# print(len(df_top20))"
   ]
  },
  {
   "cell_type": "code",
   "execution_count": null,
   "metadata": {},
   "outputs": [],
   "source": [
    "def aspectList_toString(Asplist):\n",
    "    temp_aspList = Asplist[0:1]\n",
    "    temp_string = ' '.join([str(elem) for elem in temp_aspList]) \n",
    "    return temp_string\n",
    "    "
   ]
  },
  {
   "cell_type": "code",
   "execution_count": null,
   "metadata": {},
   "outputs": [],
   "source": [
    "# print(aspect_word[0][0:2])\n",
    "#sample_list = ['government','prices','gold','aware','spurt','country','last','months']\n",
    "# print(aspectList_toString(sample_list))\n"
   ]
  },
  {
   "cell_type": "code",
   "execution_count": null,
   "metadata": {},
   "outputs": [],
   "source": [
    "cluster_map = {\n",
    "     0: 'Banking and Finance', 1: 'Violence', 2: 'Power', 3: 'Information governance',\n",
    "     4: 'Telecommunication', 5: 'Education', 6: 'Railways',  7: 'Foreign Affairs', 8: 'Ore',\n",
    "     9: 'Misc', 10: 'Commodities', 11: 'Aviation', 12: 'Disabled, Children and Women welfare', 13: 'SME and Tourism', \n",
    "    14: 'Schemes', 15: 'Road Infrastructure', 16: 'Organisation and Companies', 17: 'Water'\n",
    " }"
   ]
  },
  {
   "cell_type": "code",
   "execution_count": null,
   "metadata": {},
   "outputs": [],
   "source": [
    "label_ids = np.argsort(aspect_probs, axis=1)[:, -1]\n",
    "predict_labels = [cluster_map[label_id] for label_id in label_ids]"
   ]
  },
  {
   "cell_type": "code",
   "execution_count": null,
   "metadata": {},
   "outputs": [],
   "source": [
    "df_top20['predicted_labels'] = predict_labels"
   ]
  },
  {
   "cell_type": "code",
   "execution_count": null,
   "metadata": {},
   "outputs": [],
   "source": [
    "df_top20.drop(df_top20.columns[0],axis=1,inplace=True)\n",
    "#df.to_csv('output_dir/top20_QA_set_with_aspect_labels.csv')\n",
    "#df_top20"
   ]
  },
  {
   "cell_type": "code",
   "execution_count": null,
   "metadata": {},
   "outputs": [],
   "source": [
    "df_top20.drop(['keywords'],axis=1,inplace=True)\n",
    "df_top20['temp_asp_words'] = aspect_word\n",
    "#df_top20['aspect_words'] = df_top20.temp_asp_words.map(aspectList_toString)\n",
    "# df_top20"
   ]
  },
  {
   "cell_type": "code",
   "execution_count": null,
   "metadata": {},
   "outputs": [],
   "source": [
    "aspectTerms_list = [['banks','psbs','borrowers','write','defaulters','npa','nationalised','nationalized','npas','performing_assets_npas','defaulted','rbi','borrowing','lenders','performing_assets','loans','bank','waived','loan','sbi','lending','nbfcs','corporates','debts','borrowings','rrbs','atms','deposits','credit','waiver',],['naxalites','encounters','civilians','insurgency','naxalite','terrorists','encounter','militants','maoists','firing','killings','bsf','extremists','fighting','crpf','naxals','jawans','militant','naxalism','paramilitary','maoist','troops','innocent','itbp','rifles','killing','attacks','policemen','forces','strikes',],['power','mw','thermal','energy','megawatt','megawatts','ntpc','solar','hydro','reactors','plants','generation','electricity','reactor','generating','nuclear','renewable','ultra_mega','nhpc','umpps','wind','kudankulam','rooftop','hydel','grid','npcil','atomic','fuel','jaitapur','ramagundam',],['constitutional','lokpal','petition','judgement','hearing','petitions','appeal','rajya_sabha','honble','cic','cpc','observations','anomalies','ceo','judgment','legislations','commissions','verdict','reply','constitution','composition','legislative','appeals','court','ordinance','lok_sabha','filing','passed','hon_ble','writing',],['phone','calls','sim','mobile','unsolicited','customers','roaming','signals','phones','sms','networks','mobiles','vodafone','telephones','telephony','portability_mnp','landline','internet','messages','voice','providers','gsm','telecom','cable','towers','operators','subscribers','cellular','misleading_advertisements','computers',],['learning','graduation','taught','students','iits','teacher','universities','iims','affiliated','courses','admissions','textbooks','campuses','cbse','studying','sanskrit','academic','admission','schools','colleges','coaching','nits','degrees','navodaya','pursue','institutes','secondary','exams','teachers','undergraduate',],['railway','railways','trains','rail','tracks','platforms','emu','suburban','railwaysa','broad_gauge','junction','train','passenger','shatabdi','divisions','narrow_gauge','rangia','station','gauge_conversion','ticketing','stalls','duronto','compartments','rajdhani','irctc','superfast','coach','coaches','ticket','secunderabad',],['washington','brazil','malaysia','israel','germany','maldives','canada','afghanistan','brics','pact','saarc','russia','asean','uk','korea','kingdom','iran','mauritius','america','negotiations','fta','vietnam','paris','dialogue','bilateral','africa','counterpart','indonesia','ties','summit',],['lignite','bauxite','ore','mines','leases','coal','manganese','mcl','mining','gmdc','mahanadi_coalfields','iron_ore','vedanta','mine','miners','coalfields','minerals','extraction','excavation','mineral','posco','drilling','lease','bccl','captive','stone','sand','blocks','hills','forests',],['years','last','three','year','yearwise','five','two','wise','programmefor','current','months','past','mohlai','rests','fdr','mtcr','saurashtraand','chichira','postgraduates','ucil','inpossession','shatab','ucbs','naicker','sovereignity','corresponding','kalam','tangdar','magwani','interested',],['onion','onions','wheat','rice','pulses','potato','rabi','produces','bumper','soyabean','quintal','paddy','cereals','mustard','edible','tomato','vegetables','edible_oils','dal','sugarcane','maize','horticultural','oilseeds','fruits','grains','kharif','arhar','acreage','sowing','vegetable',],['flights','air','flight','ai','airlines','aircrafts','runway','carrier','carriers','landing','fleet','airports','kingfisher','airline','aircraft','airport','cargo','aai','jet_airways','pilots','jet','flying','minute','privatise','fares','dreamliner','trivandrum','planes','baggage','boarding',],['infants','children','kids','aged','anaemia','destitute','malnutrition','mothers','malnourished','marriage','child','beggars','abused','begging','underweight','married','leprosy','juveniles','prevalence','elderly','female','abuse','trafficked','orphanages','juvenile','marriages','mortality','adult','hiv','rape',],['handicraft','apparel','handicrafts','leather','textiles','competitiveness','cottage','msme','tourism','textile','promoting','intensive','industry','thrust','attracting','oriented','handloom','agro','cluster','innovation','handlooms','cooperatives','inclusive','fpis','cruise','powerloom','processing','dairy','clusters','exclusive',],['yojana','bima','swarozgar','rsby','ujjwala','pmjdy','sgsy','deen_dayal_upadhyaya','jyoti','nirman','rashtriya_swasthya_bima','iay','pmksy','grameen','jan_dhan','awaas','swarojgar','rajiv','grameen_vidyutikaran','nirmal','awas','swarnjayanti','gramin','saansad_adarsh','sagy','aay','deendayal','sabla','abhiyan','rggvy',],['highway','highways','lane','nh','roads','road','laning','stretches','expressways','nhs','stretch','ring','expressway','lanes','km','bypass','kms','nhai','nhdp','flyovers','length','bridges','widening','toll','golden_quadrilateral','kilometers','toll_plazas','rampur','bridges_robs','bro',],['doctors','specialists','engineers','contractual','unani','specialist','esi','dispensaries','safdarjung_hospital','nursing','empanelled','sciences_aiims','cghs','ayurvedic','deputation','employee','hospital','retired','retirement','employeesa','dispensary','resigned','employees','inducted','ayurveda','esic','hands','quit','homoeopathy','cabin_crew',],['water','groundwater','lakes','contamination','river','ponds','ground','polluted','arsenic','harvesting','effluents','rivers','drinking','rain','tributaries','yamuna','potable','ganga','depletion','fluoride','reservoirs','flood','surface','flows','depleting','soil','toxic','flowing','narmada','glaciers',],]"
   ]
  },
  {
   "cell_type": "code",
   "execution_count": null,
   "metadata": {},
   "outputs": [],
   "source": [
    "key_list = list(cluster_map.keys()) \n",
    "val_list = list(cluster_map.values()) \n",
    "def find_aspectTerm_in_aspect(asp_list,pred_lab):\n",
    "    #print(test_list)\n",
    "    #print(pred_lab)\n",
    "    aspect_index = key_list[val_list.index(pred_lab)]\n",
    "    #print(aspectTerms_list[aspect_index])\n",
    "    for item in asp_list:\n",
    "        if item in aspectTerms_list[aspect_index]:\n",
    "            return item\n",
    "    \n",
    "    return 'NA'\n",
    "    \n",
    "# l = ['trade', 'us', 'american', 'countries', 'trade', 'american', 'countries', 'investors', 'order', 'capitalize', 'lull', 'latin', 'proposed', 'open', 'four', 'five', 'centres', 'latin', 'permanent', 'basis', 'create', 'awareness', 'among', 'business', 'people', 'alike', 'indian', 'products']\n",
    "# val = find_aspectTerm_in_aspect(l,'Foreign Affairs')\n",
    "# print(val)\n",
    "# l1 = ['sezs', 'approval', 'principle', 'details', 'notified', 'given', 'country', 'till', 'october', 'state', 'wise']\n",
    "# val = find_aspectTerm_in_aspect(l1,'Information governance')\n",
    "# print(val)\n",
    "# l2 = ['export', 'year', 'envisaged', 'earning', 'targets', 'fiscal']\n",
    "# val=find_aspectTerm_in_aspect(l2,'Misc')\n",
    "# print(val)\n",
    "# # \n",
    "# aspect_index\n",
    "#df_top20.apply(lambda x: find_aspectTerm_in_aspect(x.temp_asp_words, x.predicted_labels), axis=1)"
   ]
  },
  {
   "cell_type": "code",
   "execution_count": null,
   "metadata": {},
   "outputs": [],
   "source": [
    "df_top20['aspect_word'] = df_top20.apply(lambda x: find_aspectTerm_in_aspect(x.temp_asp_words, x.predicted_labels), axis=1)\n",
    "df_top20 = df_top20[~df_top20.aspect_word.str.contains('NA')]\n",
    "df_top20.dropna(inplace=True)\n",
    "len(df_top20)"
   ]
  },
  {
   "cell_type": "markdown",
   "metadata": {},
   "source": [
    "<b> Adding polarity labels </b>"
   ]
  },
  {
   "cell_type": "code",
   "execution_count": null,
   "metadata": {},
   "outputs": [],
   "source": [
    "from vaderSentiment.vaderSentiment import SentimentIntensityAnalyzer \n",
    "def get_questionPolarity(question):\n",
    "    analyser = SentimentIntensityAnalyzer()\n",
    "    score = analyser.polarity_scores(question)['compound']\n",
    "    #print(score)\n",
    "    if (score > 0.2):\n",
    "        return 'positive'\n",
    "    elif (score < -0.2):\n",
    "        return 'negative'\n",
    "    else:\n",
    "        return 'neutral'"
   ]
  },
  {
   "cell_type": "code",
   "execution_count": null,
   "metadata": {},
   "outputs": [],
   "source": []
  },
  {
   "cell_type": "code",
   "execution_count": null,
   "metadata": {},
   "outputs": [],
   "source": [
    "import regex as re\n",
    "# from nltk.tokenize import sent_tokenize\n",
    "# nltk.download('punkt')\n",
    "# def clean_string(sent):\n",
    "#     to_remove='&*:;'\n",
    "#     sent = sent.translate(str.maketrans('','',to_remove))\n",
    "#     list_of = ['(a)', '(b)', '(c)', '(d)', '(e)','(f)','(i)','(ii)','(iii)']\n",
    "#     for word in list_of:\n",
    "#         sent = sent.replace(word,\"\")\n",
    "#     _RE_COMBINE_WHITESPACE = re.compile(r\"(?a:\\s+)\")\n",
    "#     _RE_STRIP_WHITESPACE = re.compile(r\"(?a:^\\s+|\\s+$)\")\n",
    "#     sent = _RE_COMBINE_WHITESPACE.sub(\" \", sent)\n",
    "#     sent = _RE_STRIP_WHITESPACE.sub(\"\", sent)\n",
    "#     return sent\n",
    "\n",
    "# def get_polarity(answer):\n",
    "#     answer = clean_string(answer)\n",
    "#     article_tokenized = sent_tokenize(answer)\n",
    "#     analyser = SentimentIntensityAnalyzer()\n",
    "#     comp_scores=[]\n",
    "#     neg_score=0\n",
    "#     pos_score=0\n",
    "#     total_count=0\n",
    "#     for i in article_tokenized:\n",
    "#         #print(analyser.polarity_scores(i))\n",
    "#         comp_scores.append(analyser.polarity_scores(i)['compound'])\n",
    "#     #print(comp_scores)\n",
    "#     for score in comp_scores:\n",
    "#         if (score > 0.5):\n",
    "#             pos_score = pos_score+1\n",
    "#         elif (score < -0.5):\n",
    "#             neg_score=neg_score+1\n",
    "\n",
    "#         total_count = total_count+1\n",
    "\n",
    "#     if(neg_score!=0):\n",
    "#         return \"negative\"\n",
    "#     elif (pos_score!=0 and pos_score/total_count >= 0.15):\n",
    "#         return \"positive\"\n",
    "#     else:\n",
    "#         return \"neutral\"\n",
    "def get_answerPolarity(answer):\n",
    "    #print(answer)\n",
    "    answer_text = re.sub(r'\\d+', '',answer)\n",
    "    #print(answer_text)\n",
    "    analyser = SentimentIntensityAnalyzer()\n",
    "    score = analyser.polarity_scores(answer_text)['compound']\n",
    "    #print(score)\n",
    "    if (score > 0.2):\n",
    "        return 'positive'\n",
    "    elif (score < -0.2):\n",
    "        return 'negative'\n",
    "    else:\n",
    "        return 'neutral'"
   ]
  },
  {
   "cell_type": "code",
   "execution_count": null,
   "metadata": {},
   "outputs": [],
   "source": [
    "df_top20['question_polarity'] = df_top20.primary_question.map(get_questionPolarity)\n",
    "df_top20['answer_polarity'] = df_top20.primary_answer.map(get_answerPolarity)"
   ]
  },
  {
   "cell_type": "code",
   "execution_count": null,
   "metadata": {},
   "outputs": [],
   "source": [
    " df_top20"
   ]
  },
  {
   "cell_type": "code",
   "execution_count": null,
   "metadata": {},
   "outputs": [],
   "source": [
    "df_top20.to_csv('output_dir/top20_QA_set_with_aspect_labels.csv')"
   ]
  },
  {
   "cell_type": "code",
   "execution_count": null,
   "metadata": {
    "scrolled": true
   },
   "outputs": [],
   "source": [
    "df_out = df_top20[['primary_question','predicted_labels','aspect_word','question_polarity']].copy()\n",
    "df_out['primary_question'] = df_out['primary_question'].str.lower()\n",
    "df_out['predicted_labels'] = df_out['predicted_labels'].str.lower()\n",
    "df_out['aspect_word'] = df_out['aspect_word'].str.lower()\n",
    "sentiment = {'negative': 0,'neutral': 1, 'positive':2} \n",
    "df_out['question_polarity'] = [sentiment[item] for item in df_out.question_polarity]\n",
    "# df_out"
   ]
  },
  {
   "cell_type": "code",
   "execution_count": null,
   "metadata": {},
   "outputs": [],
   "source": [
    "from unicodedata import normalize\n",
    "_RE_COMBINE_WHITESPACE = re.compile(r\"(?a:\\s+)\")\n",
    "_RE_STRIP_WHITESPACE = re.compile(r\"(?a:^\\s+|\\s+$)\")\n",
    "def aspect_position(question,aspect_word):\n",
    "    question = question.replace('-',' ')\n",
    "    question = question.replace('/',' ')\n",
    "    question = question.replace('(',' ')\n",
    "    question = question.replace(')',' ')\n",
    "    question = question.replace(',',' ')\n",
    "    question = question.replace('.',' ')\n",
    "    question = question.replace('\\'','')\n",
    "    question = question.replace('mw',' mw')\n",
    "    question = question.replace('kms',' kms')\n",
    "    question = question.replace('<u+0080><u+0099>',' ')\n",
    "    question = normalize('NFKD', question).encode('ascii','ignore').decode('utf-8')\n",
    "    question = _RE_COMBINE_WHITESPACE.sub(\" \", question)\n",
    "    question = _RE_STRIP_WHITESPACE.sub(\"\", question)\n",
    "    question = question.replace('road20','road')\n",
    "    question = question.replace('nh200','nh')\n",
    "    question = question.replace('nh1','nh')\n",
    "    #print(aspect_word)\n",
    "    word = aspect_word\n",
    "    word = word.replace('_',' ')\n",
    "    word = word.split(' ')[0]\n",
    "#     print(question)\n",
    "#     print(word)\n",
    "    start_index = re.search(r'\\b{0}\\b'.format(word),question)\n",
    "    #print(start_index.start())\n",
    "    end = start_index.start() + len(word)\n",
    "    return question,word,start_index.start(),end"
   ]
  },
  {
   "cell_type": "code",
   "execution_count": null,
   "metadata": {},
   "outputs": [],
   "source": [
    "df_out['question'],df_out['aspect_term'],df_out['from'],df_out['to'] = zip(*df_out.apply(lambda x: aspect_position(x.primary_question, x.aspect_word), axis=1))"
   ]
  },
  {
   "cell_type": "code",
   "execution_count": null,
   "metadata": {},
   "outputs": [],
   "source": []
  },
  {
   "cell_type": "code",
   "execution_count": null,
   "metadata": {},
   "outputs": [],
   "source": [
    "df_out.drop(['primary_question','aspect_word','predicted_labels'],axis=1,inplace=True)\n",
    "df_out.rename(columns = {'aspect_term':'aspect','question_polarity':'sentiment'},inplace=True)\n",
    "# df_out"
   ]
  },
  {
   "cell_type": "code",
   "execution_count": null,
   "metadata": {},
   "outputs": [],
   "source": [
    "df_out.to_csv('../supervised/input_data/input.csv')"
   ]
  },
  {
   "cell_type": "code",
   "execution_count": null,
   "metadata": {},
   "outputs": [],
   "source": []
  }
 ],
 "metadata": {
  "kernelspec": {
   "display_name": "Python 3",
   "language": "python",
   "name": "python3"
  },
  "language_info": {
   "codemirror_mode": {
    "name": "ipython",
    "version": 3
   },
   "file_extension": ".py",
   "mimetype": "text/x-python",
   "name": "python",
   "nbconvert_exporter": "python",
   "pygments_lexer": "ipython3",
   "version": "3.7.0"
  }
 },
 "nbformat": 4,
 "nbformat_minor": 2
}
