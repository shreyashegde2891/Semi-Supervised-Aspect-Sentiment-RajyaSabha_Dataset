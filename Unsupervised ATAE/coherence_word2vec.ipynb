{
 "cells": [
  {
   "cell_type": "code",
   "execution_count": null,
   "metadata": {},
   "outputs": [],
   "source": [
    "import pandas as pd\n",
    "import numpy as np\n",
    "\n",
    "\n",
    "import string\n",
    "import re\n",
    "from pprint import pprint\n",
    "\n",
    "# Gensim\n",
    "import gensim\n",
    "import gensim.corpora as corpora\n",
    "from gensim.utils import simple_preprocess\n",
    "from gensim.models import CoherenceModel"
   ]
  },
  {
   "cell_type": "code",
   "execution_count": null,
   "metadata": {},
   "outputs": [],
   "source": [
    "import plotly.graph_objects as go\n",
    "from plotly.subplots import make_subplots\n",
    "from itertools import combinations"
   ]
  },
  {
   "cell_type": "code",
   "execution_count": null,
   "metadata": {},
   "outputs": [],
   "source": [
    "model = gensim.models.Word2Vec.load(\"experiments/w2v_embedding\")"
   ]
  },
  {
   "cell_type": "code",
   "execution_count": null,
   "metadata": {},
   "outputs": [],
   "source": [
    "def get_coherenceScore(aspectsCategories):\n",
    "    total_coherence = 0.0\n",
    "    for index in range(len(aspectsCategories)):\n",
    "        pair_scores = []\n",
    "        for pair in combinations(aspectsCategories[index], 2):\n",
    "            try:\n",
    "                pair_scores.append(model.wv.similarity(pair[0], pair[1]))\n",
    "            except KeyError as e:\n",
    "                # If word is not in the word2vec model then as score 0.5\n",
    "                print(e)\n",
    "                #pair_scores.append(0.5) \n",
    "        topic_score = sum(pair_scores) / len(pair_scores)\n",
    "        total_coherence += topic_score\n",
    "    return total_coherence / len(aspectsCategories)"
   ]
  },
  {
   "cell_type": "markdown",
   "metadata": {},
   "source": [
    "<b>Choosing batch size</b>"
   ]
  },
  {
   "cell_type": "code",
   "execution_count": null,
   "metadata": {},
   "outputs": [],
   "source": [
    "epochs = [1, 2, 3, 4, 5, 6, 7, 8, 9, 10, 11, 12, 13, 14, 15, 16, 17, 18, 19, 20, 21, 22, 23, 24, 25, 26, 27, 28, 29, 30, 31, 32, 33, 34, 35, 36, 37, 38, 39, 40, 41, 42, 43, 44, 45, 46, 47, 48, 49, 50]\n",
    "\n",
    "##Adams optimizer\n",
    "Total_Loss_Adam64 = [0.9037990045958576, 0.5267550475312649, 0.5052414787878408, 0.4965680920095182, 0.4924288475282856, 0.48942304597470426, 0.4876129690391657, 0.48703530796743216, 0.48454492419481865, 0.48419012802302874, 0.4825584541558222, 0.4825138587275904, 0.48091496465785644, 0.4810858374638557, 0.47991490760102173, 0.47969713952483184, 0.47855606747836604, 0.4785184584012843, 0.4779940119202743, 0.47804069950161504, 0.47701494785494125, 0.4766683964492692, 0.4766467302611535, 0.47668684867372846, 0.4755484708925575, 0.47565050153696276, 0.4752143650269486, 0.4739838202677426, 0.47532113020514366, 0.4740866396334922, 0.4738406498608613, 0.474438515729118, 0.47345242824145395, 0.47308591221239127, 0.4735956599824657, 0.4731630771424815, 0.4729231440840504, 0.47243775100242674, 0.47282298456930744, 0.4722650880518836, 0.4724643510665285, 0.4719174077171951, 0.47203417634943906, 0.4719225566010195, 0.47176942916052794, 0.47107931931445957, 0.47162998920734167, 0.47030781496463436, 0.47132122208332183, 0.47054048440253826]\n",
    "Max_Margin_Loss_Adam64 = [0.7102073900232417, 0.5216526280841072, 0.5021898748495683, 0.4940663887433791, 0.4901632081820644, 0.48726536770945733, 0.4854876280983925, 0.48492698823834224, 0.48244136336272825, 0.48210143842448483, 0.4804865612113455, 0.48043589009468646, 0.47883097375010736, 0.47900856295686706, 0.47784241144149747, 0.4776326190081841, 0.47649842177347707, 0.47644473235079793, 0.4759676541421876, 0.4760181276962675, 0.4749973893566632, 0.47465857088916774, 0.47462385817672953, 0.4746918662994021, 0.47354888016181057, 0.47366385072895845, 0.47324868324827585, 0.4719878396534739, 0.4733447525759928, 0.4721348110470486, 0.4718750288648898, 0.4724953082101102, 0.4715319012422538, 0.4711649501343747, 0.47168517894760853, 0.4712663981671894, 0.47100723143181267, 0.4705345848962169, 0.4709032110500168, 0.47036991949538576, 0.47059418387629554, 0.4700245984318481, 0.4701475883803508, 0.47005022740143504, 0.46990545947477635, 0.46920562793067533, 0.46976151182633474, 0.46842810774771815, 0.4694605766222991, 0.46867904132208626]\n",
    "\n",
    "Total_Loss_Adam128 = [1.2091552620182964, 0.5758486877788195, 0.5292762864117678, 0.5118030741158562, 0.5036676992169928, 0.49769060037754154, 0.49480934832433227, 0.4909033086464462, 0.49050710046732793, 0.4892589357565551, 0.48726603820267755, 0.48641853591408396, 0.4857262423644561, 0.48443064976621575, 0.48377455098661104, 0.482976148776735, 0.4826827716044705, 0.4820503647178916, 0.4818309051320208, 0.4812372450776376, 0.4802750644559411, 0.48016458744753937, 0.4796123159453522, 0.47940402796573495, 0.47883129616578396, 0.47905338161722183, 0.4793232022612189, 0.4784467064772389, 0.47853073071349733, 0.4781045789269085, 0.4780735261111146, 0.47745804423434973, 0.47724315915444904, 0.47656568869797883, 0.4765818907255277, 0.47624084639428854, 0.4757808148860932, 0.4758346026593992, 0.47576989288683286, 0.47568249090351994, 0.4753597517206211, 0.4745313157938943, 0.47441379705864184, 0.47451501397372037, 0.4746835699386471, 0.47470587973642864, 0.47510356854910774, 0.4748894279251999, 0.474116795442321, 0.47402055084906036]\n",
    "Max_Margin_Loss_Adam128 = [0.8325677515079691, 0.5654244911088694, 0.5244639803865538, 0.5083705678030297, 0.5008549287363333, 0.49519277231059033, 0.49251272717509603, 0.4886541909942722, 0.488329741890583, 0.4871125283967772, 0.4851034569619883, 0.4842701072142979, 0.4835797475544285, 0.48228928436735297, 0.48161745859115623, 0.48083173962755227, 0.48053973235867253, 0.47988849100641107, 0.47970019215686555, 0.47910538516462065, 0.478142536248422, 0.478042385694555, 0.4774792121114949, 0.47727329858425066, 0.47671811724150603, 0.4769534325659875, 0.47721095036978706, 0.47634934365548665, 0.47644696342021975, 0.4760060580290532, 0.47601683377617504, 0.47542322043216567, 0.4751695055351516, 0.4745157865261794, 0.47452330875276366, 0.4741999376000779, 0.47373794159704574, 0.4737861180546307, 0.4737307227119458, 0.47367161196289653, 0.4733550506910491, 0.47251027094996806, 0.4723969263460497, 0.47250427872644896, 0.47268650693323466, 0.472726779002132, 0.47314918833950925, 0.47290898051727553, 0.4721446703078367, 0.4720579997859018]\n",
    "\n",
    "Total_Loss_Adam256 = [1.6422520902020366, 0.7320343767753755, 0.6021239167512068, 0.5532944746290395, 0.5312074460967221, 0.5179876080065063, 0.510903110207131, 0.5055318129584446, 0.5010760001060535, 0.4986026084382929, 0.494522564639949, 0.49354378141538013, 0.49103000740009534, 0.4911320759391142, 0.48854449582019627, 0.4871223279924106, 0.48677972019320787, 0.4858636029240263, 0.4854163427144189, 0.48483573507379596, 0.48292497312179716, 0.48360430261101384, 0.4827884612260042, 0.4820517897605897, 0.4823027504012239, 0.4808173638200916, 0.48106875915318603, 0.4803551079247535, 0.47993725447943736, 0.4791560262341292, 0.47935323432238425, 0.47897244332615385, 0.4788963321082121, 0.4785271262881726, 0.47891727069813, 0.47768068012565074, 0.4778045914590554, 0.4780798367779661, 0.47707512452947576, 0.477211072388723, 0.47682270979640445, 0.4766020633355537, 0.4760405647032189, 0.4765329411134175, 0.47610936612392507, 0.4767193702936976, 0.47620348817973, 0.47622034345010306, 0.47574365971867105, 0.47572288479066477]\n",
    "Max_Margin_Loss_Adam256 = [0.932060800216816, 0.7157258443559459, 0.5884258666825218, 0.5465786232290047, 0.5264964475976898, 0.5140704089142258, 0.5075313365619994, 0.5025041953281117, 0.4982707379040898, 0.49598183696117465, 0.4920043652306504, 0.4911188027674095, 0.48865847746129787, 0.48882522948261875, 0.4862770873689488, 0.48490483351428126, 0.4845831260737346, 0.4836811907965727, 0.483274551252725, 0.4827082617716353, 0.48079168495505736, 0.4814798029183537, 0.48068385854714635, 0.47994141998114404, 0.48022978905876873, 0.47871269441212866, 0.47898411138691865, 0.47826100549713935, 0.4778397795728562, 0.4770523382959141, 0.4772709323099563, 0.47687996457321447, 0.4767908057580487, 0.4764627335649547, 0.47685818900965676, 0.4756087895595667, 0.47573563767603333, 0.47599377445500296, 0.47503681957521005, 0.4751556447459389, 0.4747503510227907, 0.47453483026035703, 0.4739540289548108, 0.4744707128214917, 0.4740739073416199, 0.4746743839999242, 0.47416075712903966, 0.4741914351580523, 0.47369086110230607, 0.47368023501903483]\n",
    "\n",
    "Total_Loss_Adam512 = [2.425369578036102, 0.8838618860856908, 0.7779003510604036, 0.6969208177682517, 0.637344869004713, 0.5941750238070613, 0.5676071075974285, 0.5486493545609551, 0.5362641553621031, 0.5267970098837002, 0.5203989828760558, 0.5152042351059013, 0.5106146595365288, 0.5069644632371695, 0.5034818693592742, 0.5011525641422016, 0.49865032410299454, 0.49655471198462153, 0.49521281066778516, 0.49280037469155064, 0.49126337428350697, 0.4895870838616346, 0.4888188689947129, 0.4870908471780857, 0.48681872015869315, 0.4860104113011749, 0.4847934296404993, 0.48412172013037913, 0.4824002165649386, 0.48188243907045664, 0.48254415473422513, 0.48184324297550574, 0.48065420079070176, 0.4790084954049138, 0.47986658924334785, 0.4798627173578418, 0.47881274207218283, 0.47855432089921585, 0.4781454463262815, 0.47763665825934026, 0.47775974990548314, 0.4769612703774426, 0.4764216530161935, 0.475212145697426, 0.4755747882095543, 0.47548757010215, 0.4755128956324345, 0.4752701168527475, 0.4754022559201397, 0.4747208495800562]\n",
    "Max_Margin_Loss_Adam512 = [0.968398560140584, 0.8803151986888934, 0.7660116774810332, 0.6773822927797165, 0.6189966693117815, 0.5810817592852824, 0.5583611964373972, 0.5413953561235119, 0.5303208944765294, 0.5216723736878988, 0.5159189958830138, 0.511219830327743, 0.5069758644377865, 0.5036294047494194, 0.5003643416472384, 0.4982082642413477, 0.4959069663608397, 0.49394882691873077, 0.4927430912046821, 0.49040232719601806, 0.4889503294551696, 0.4873507300744186, 0.4866396865329225, 0.4849669238602792, 0.4847398146584226, 0.4839424720487082, 0.48276142433688435, 0.4821264018883577, 0.4804166239258407, 0.47992046519711173, 0.4806150564470807, 0.4799320818604653, 0.4787547062780407, 0.47711396720763816, 0.47801944996054113, 0.47801073982908904, 0.476979836217455, 0.47673838142607644, 0.4763373712430129, 0.4758164975288751, 0.4759794153474474, 0.4751510438886851, 0.47462500611672503, 0.47343439749769267, 0.47380656265729176, 0.4736848229894769, 0.47371498696707365, 0.4735038238199982, 0.47363790909986236, 0.4729404145398656]\n"
   ]
  },
  {
   "cell_type": "code",
   "execution_count": null,
   "metadata": {},
   "outputs": [],
   "source": [
    "fig = go.Figure()\n",
    "# Add traces\n",
    "fig.add_trace(\n",
    "    go.Scatter(x=epochs, y=Total_Loss_Adam64, name=\"64\")\n",
    ")\n",
    "\n",
    "fig.add_trace(\n",
    "    go.Scatter(x=epochs, y=Total_Loss_Adam128, name=\"128\")\n",
    ")\n",
    "fig.add_trace(\n",
    "    go.Scatter(x=epochs, y=Total_Loss_Adam256, name=\"256\")\n",
    ")\n",
    "fig.add_trace(\n",
    "    go.Scatter(x=epochs, y=Total_Loss_Adam512, name=\"512\")\n",
    ")\n",
    "\n",
    "# Add figure title\n",
    "fig.update_layout(\n",
    "    title_text=\"Total Loss\", legend_title=\"Batche Size\",\n",
    ")\n",
    "\n",
    "# Set x-axis title\n",
    "fig.update_xaxes(title_text=\"Epochs\")\n",
    "fig.update_yaxes()#(range=[0.3, 0.9])\n",
    "fig.show()"
   ]
  },
  {
   "cell_type": "code",
   "execution_count": null,
   "metadata": {},
   "outputs": [],
   "source": [
    "fig = go.Figure()\n",
    "# Add traces\n",
    "fig.add_trace(\n",
    "    go.Scatter(x=epochs, y=Max_Margin_Loss_Adam64, name=\"64\")\n",
    ")\n",
    "\n",
    "fig.add_trace(\n",
    "    go.Scatter(x=epochs, y=Max_Margin_Loss_Adam128, name=\"128\")\n",
    ")\n",
    "fig.add_trace(\n",
    "    go.Scatter(x=epochs, y=Max_Margin_Loss_Adam256, name=\"256\")\n",
    ")\n",
    "fig.add_trace(\n",
    "    go.Scatter(x=epochs, y=Max_Margin_Loss_Adam512, name=\"512\")\n",
    ")\n",
    "\n",
    "# Add figure title\n",
    "fig.update_layout(\n",
    "    title_text=\"Max Margin Loss\",legend_title=\"Batch Size\"\n",
    ")\n",
    "\n",
    "# Set x-axis title\n",
    "fig.update_xaxes(title_text=\"Epochs\")\n",
    "fig.update_yaxes(range=[0.3, 0.9])\n",
    "fig.show()"
   ]
  },
  {
   "cell_type": "markdown",
   "metadata": {},
   "source": [
    "<b> Coherence Scores vs Batch size</b>"
   ]
  },
  {
   "cell_type": "code",
   "execution_count": null,
   "metadata": {},
   "outputs": [],
   "source": [
    "##Adams Optimizer - LR 0.001\n",
    "Adam_64 = [['banks','defaulters','psbs','write','defaulted','npa','nationalised','npas','borrowers','corporates','nbfcs','sbi','performing_assets_npas','nationalized','lenders','performing_assets','borrowing','psu','rbi','transactions','profits','unaccounted','lending','shares','swiss','waived','bank','stashed','deposits','borrowings',],['farmers','crop','crops','sowing','farming','agricultural','kharif','farm','yield','growers','bt_cotton','cultivation','farmer','rabi','produces','marginal','cultivable','agriculture','sugarcane','paddy','drought','soyabean','rain','apple','bumper','unseasonal_rains','horticultural','harvest','suicide','monsoon',],['learning','iits','iims','affiliated','universities','teacher','taught','campuses','graduation','courses','cbse','students','academic','sanskrit','textbooks','admissions','colleges','schools','studying','nits','admission','coaching','degrees','pursue','institutes','navodaya','teaching','secondary','ncert','amu',],['constitutional','lokpal','legislations','petition','net_neutrality','hearing','appeal','petitions','judgement','rajya_sabha','ordinance','amending','observations','legislative','honble','resolution','filing','ncpcr','amendment','constitution','comments','alia','anomalies','suggestion','enacted','cpc','spirit','hon_ble','electoral','assent',],['swarnjayanti','swarojgar','sgsy','pmksy','yojana','sadakyojana_pmgsy','rashtriya_krishi_vikas','awaas','jyoti','pradhanmantri','swarozgar','iay','bima','nirmal','rkvy','abhiyan','sadak','krishi_sinchayee','yuva','gram','rggvy','deendayal','sagy','grameen_vidyutikaran','nirman','pmgsy','grameen','mantri','ujjwala','kaushal_vikas',],['afghanistan','maldives','washington','israel','malaysia','counterpart','germany','dialogue','russia','brazil','canada','asean','pak','diplomatic','pact','korea','saarc','ties','brics','kingdom','vietnam','uk','pakistan','peace','paris','iran','resume','china','america','sri_lanka',],['killings','murder','juveniles','encounters','robbery','rapes','gang','custodial','molestation','heinous','abduction','rape','offences','tihar_jail','crimes','dengue','kidnapping','encounter','minors','spate','riots','attacks','incidents','honour_killings','torture','civilians','acid','cases','mishaps','strikes',],['water','drinking','ponds','groundwater','arsenic','potable','contamination','ground','effluents','river','polluted','lakes','rivers','ganga','yamuna','harvesting','sewage','surface','fluoride','depletion','contaminated','tributaries','poisonous','toxic','depleting','pure','cpcb','drainage','sanitation','flowing',],['slowed','gdp','intensity','trends','maternal_mortality','achieving','stands','dismal','contributes','inflation','growth','hunger','emission','emissions','lowest','goal','accelerate','imf','aiming','fatalities','economy','factor','touched','goals','see','projection','warming','mortality','wheelers','quarter',],['homeless','aged','physically_challenged','destitute','migrant','kids','widows','children','living','manual_scavengers','married','mothers','live','slums','families','seekers','adult','needy','differently_abled','infants','people','landless','female','deprived','unorganised','beedi','physically','educated','unskilled','elderly',],['railway','railways','rail','tracks','junction','broad_gauge','trains','narrow_gauge','gauge_conversion','rangia','doubling','emu','train','khurda','platforms','suburban','divisions','superfast','station','passenger','secunderabad','moradabad','shatabdi','duronto','railwaysa','busy','tanakpur','collision','coach','howrah',],['power','thermal','mw','ntpc','energy','megawatt','coal','megawatts','plants','hydro','reactors','nuclear','generation','generating','umpps','ultra_mega','solar','npcil','reactor','kudankulam','nhpc','captive','atomic','electricity','wind','renewable','hydel','jaitapur','ramagundam','cil',],['phone','phones','mobile','sim','sms','signals','mobiles','portability_mnp','telephony','towers','roaming','unsolicited','computers','landline','telephones','calls','messages','internet','gsm','portability','voice','providers','telephone','wireless','dth','tower','cellular','networks','call_drops','subscribers',],['apparel','handicraft','cottage','handicrafts','leather','textiles','handlooms','industry','intensive','competitiveness','textile','fpis','promoting','attracting','clusters','msme','powerloom','agro','processing','tourism','handloom','cruise','oriented','cluster','pharma','industries','exclusive','thrust','artisans','dairy',],['edible','rice','edible_oils','wheat','cereals','grains','kerosene','pulses','adulterated','onions','mustard','ethanol','vegetable','meat','foodgrains','onion','spices','crude','dal','sugar','milk','vegetables','lifted','prices','superior','tomato','quantities','mrp','imported','exported',],['sanctuary','stretches','sq','gir','hills','bauxite','trees','excavation','stone','habitats','sand','forests','ecologically_sensitive','km','protected','fauna','nh','planted','ring','adjacent','vedanta','stretch','encroachment','leases','western_ghats','sanctuaries','clearances','elephant','wildlife','lions',],['retired','deputation','allowances','cadre','assistant','scales','contractual','cadres','officers','retirement','engineers','secretariat','resigned','para','employees','cabin_crew','ifs','army','ips','pensioners','posted','deputed','employeesa','employee','departmental','esi','civilian','ex','paramilitary','parity',],['flights','flight','air','airlines','ai','landing','runway','airports','aircrafts','carriers','airport','kingfisher','carrier','airline','aai','jet_airways','boarding','cargo','fleet','trivandrum','aircraft','privatise','flying','pilots','jet','baggage','minute','planes','passenger','fares',],]\n",
    "\n",
    "Adam_128 = [['maldives','washington','afghanistan','malaysia','germany','saarc','uk','canada','brazil','kingdom','pact','asean','counterpart','iran','america','paris','israel','resume','dialogue','europe','korea','russia','britain','brics','diplomatic','fta','bilateral','switzerland','mauritius','usa',],['phone','mobile','roaming','internet','telephones','signals','portability_mnp','telephony','sms','connections','landline','broadband','telephone','calls','cable','dth','mobiles','phones','sim','gsm','wireless','towers','unsolicited','call_drops','digital','networks','subscribers','customers','optical_fibre','enabled',],['farmers','crop','crops','farm','agricultural','sowing','kharif','farming','produces','paddy','yield','bt_cotton','rain','horticultural','agriculture','rabi','farmer','bumper','monsoon','cultivation','harvest','soyabean','drought','marginal','varieties','potato','apple','icar','unseasonal_rains','gm_mustard',],['water','groundwater','ponds','lakes','polluted','ground','effluents','arsenic','river','rivers','contamination','drinking','fluoride','potable','tributaries','depleting','yamuna','ganga','reservoirs','harvesting','depletion','flowing','toxic','wells','contaminated','narmada','polluting','sewage','poisonous','cpcb',],['power','thermal','mw','ntpc','coal','plants','megawatt','captive','umpps','npcil','energy','reactors','ultra_mega','megawatts','nuclear','hydro','kudankulam','generating','reactor','cil','nhpc','atomic','uranium','generation','jaitapur','hydel','coking','ramagundam','solar','plant',],['nationalised','banks','psbs','npa','defaulters','defaulted','write','borrowers','nationalized','sbi','npas','nbfcs','psu','corporates','performing_assets','performing_assets_npas','lenders','rbi','profits','borrowing','waived','atms','lending','transactions','deposits','unaccounted','bank','shares','subsidiaries','asset',],['rashtriya_krishi_vikas','swarnjayanti','swarojgar','yojana','sgsy','rkvy','awaas','abhiyan','pmksy','iay','deendayal','jyoti','bima','yuva','sabla','sadakyojana_pmgsy','nirman','swarozgar','nirmal','awas','rajiv','grameen','krishi_sinchayee','nhm','grameen_vidyutikaran','flagship','rggvy','centrally_sponsored','pradhanmantri','vikas',],['highway','highways','nh','stretches','lane','ring','laning','stretch','bypass','expressways','roads','km','lanes','nhs','road','expressway','kms','length','flyovers','nhdp','widening','golden_quadrilateral','nhai','tunnel','rampur','kilometers','bridges','toll_plazas','flyover','toll',],['learning','iits','graduation','teacher','taught','universities','students','iims','campuses','affiliated','admissions','schools','courses','cbse','academic','studying','textbooks','sanskrit','colleges','admission','nits','secondary','navodaya','coaching','pursue','degrees','teachers','teaching','student','school',],['railway','railways','trains','passenger','shatabdi','duronto','rajdhani','train','superfast','emu','junction','suburban','coaches','platforms','compartments','rail','passengers','railwaysa','ticket','howrah','ticketing','irctc','travelling','secunderabad','rangia','ac','broad_gauge','tracks','sleeper','divisions',],['apparel','handicraft','leather','cottage','textiles','handicrafts','industry','intensive','competitiveness','attracting','agro','promoting','vital','cluster','pharma','oriented','textile','exclusive','cruise','msme','thrust','clusters','innovation','fpis','dipp','processing','commerce','handlooms','manufacturing','handloom',],['constitutional','rajya_sabha','cpc','lokpal','chairmanship','recommending','anomalies','legislative','suggestion','secretariat','petition','petitions','sixth','dopt','ceo','lok_sabha','seventh','recommendation','composition','gom','parliamentary','recommendations','constitution','appointment','writing','commissioner','sam_pitroda','allowances','hearing','cic',],['edible','rice','wheat','pulses','cereals','mustard','grains','edible_oils','kerosene','meat','crude','exported','onions','dal','adulterated','spices','palm','onion','sugar','ethanol','foodgrains','yarn','vegetable','imported','quantities','lifted','refineries','tomato','oilseeds','maize',],['sciences_aiims','ayurveda','specialists','unani','cghs','esi','dispensary','dispensaries','cabin_crew','empanelled','controller','homoeopathy','siddha','doctors','nursing','safdarjung_hospital','pilots','crew','hospitals','ayurvedic','contractual','specialist','hospital','patients','diagnostic','medicine','esic','joined','plane','instruments',],['slowed','gdp','trends','ai','intensity','air','inflation','growth','projection','fares','stands','fleet','contributes','factor','carrier','corresponding','economy','lowest','imf','match','emissions','hunger','quarter','aircraft','gross','fiscal','carbon','emission','deficit','projected',],['homeless','landless','manual_scavengers','migrant','living','beedi','families','unorganised','unskilled','labourers','people','widows','live','educated','seekers','destitute','physically_challenged','married','slums','aged','kids','dwellers','male','deprived','unemployed','persons','workers','female','casual','person',],['civilians','bsf','firing','naxalites','crpf','encounter','encounters','insurgency','jawans','itbp','forces','fighting','naxalite','paramilitary','troops','terrorists','policemen','personnel','maoists','killings','armed','militants','battalions','army','extremists','rifles','tibetan','battalion','ammunition','maoist',],['dowry','rape','juveniles','offences','heinous','cases','convicted','molestation','abduction','crimes','sexual','pocso','honour_killings','marriage','rapes','murder','punishment','minors','abuse','conviction','kidnapping','robbery','marriages','leprosy','courts','adulteration','narcotic','offenders','juvenile','criminals',],]\n",
    "\n",
    "Adam_256 = [['teacher','learning','iits','graduation','affiliated','universities','taught','iims','students','admissions','courses','textbooks','colleges','cbse','campuses','studying','admission','academic','sanskrit','nits','schools','teachers','degrees','student','teaching','navodaya','syllabus','diploma','ncert','secondary',],['air','ai','flight','pilots','fleet','cabin_crew','carrier','flights','aircrafts','plane','runway','fighter','inducted','aircraft','airlines','iaf','crew','carriers','mig','flying','jet_airways','landing','helicopter','kingfisher','airline','dreamliner','planes','crashed','jet','fighter_planes',],['rice','wheat','pulses','onion','paddy','onions','mustard','rabi','cereals','soyabean','bumper','produces','potato','edible','maize','tomato','sugarcane','dal','quintal','oilseeds','grains','horticultural','kharif','foodgrains','edible_oils','fodder','vegetables','sowing','arhar','acreage',],['circuits','tourism','buddhist','handicrafts','folk','upliftment','culture','cultural','tourist','circuit','crafts','religious','sung','navsari','scenic','unrealistic','destinations','heritage','artists','promotion','handlooms','museums','historical','itdc','tourists','ahci','taiyyar','hapless','ludhiana','promote',],['afghanistan','maldives','malaysia','washington','counterpart','israel','germany','korea','dialogue','russia','pak','asean','brazil','canada','vietnam','pact','saarc','kingdom','iran','resume','brics','ties','diplomatic','africa','pakistan','china','uk','myanmar','talks','america',],['banks','psbs','borrowers','write','npa','nationalised','defaulters','nationalized','npas','performing_assets_npas','loans','waived','defaulted','lenders','loan','borrowing','performing_assets','rbi','credit','lending','rrbs','sbi','waiver','bank','debts','mfis','nbfcs','borrowings','corporates','debt',],['landless','manual_scavengers','homeless','unorganised','migrant','beedi','widows','unskilled','living','families','destitute','labourers','live','seekers','deprived','physically_challenged','adult','aged','educated','people','mothers','allowance','slums','needy','married','workers','unorganized','kids','mentally_retarded','female',],['constitutional','lokpal','petition','rajya_sabha','judgement','hearing','cpc','anomalies','petitions','honble','cic','appeal','legislative','ceo','constitution','observations','ordinance','suggestion','judgment','verdict','appointment','recommending','lok_sabha','legislations','chairmanship','reply','net_neutrality','resolution','sixth','writing',],['power','thermal','coal','mw','ntpc','captive','megawatt','plants','cil','umpps','npcil','megawatts','ultra_mega','coking','nhpc','reactors','ramagundam','nuclear','energy','hydro','uranium','generating','generation','kudankulam','gasification','reactor','atomic','plant','gas','steel',],['stretches','nh','km','highways','stretch','lane','ring','highway','sq','gir','sanctuary','trees','laning','expressways','lanes','bypass','habitats','kms','fauna','elephant','roads','nhs','nhai','road','widening','wall','expressway','protected','toll_plazas','flora',],['killings','encounters','murder','juveniles','encounter','tihar_jail','gang','heinous','robbery','civilians','custodial','rapes','minors','abduction','innocent','offences','riots','rape','attacks','dengue','crimes','naxalites','spate','torture','molestation','strikes','kidnapping','killing','terrorists','policemen',],['railway','railways','rail','tracks','junction','trains','broad_gauge','narrow_gauge','rangia','gauge_conversion','emu','train','suburban','platforms','passenger','superfast','doubling','shatabdi','khurda','duronto','divisions','station','secunderabad','railwaysa','rajdhani','coach','compartments','howrah','ticketing','moradabad',],['empanelled','multinational','antibiotics','securities','companies','clinical_trials','medicines','donations','barred','shares','instruments','contractors','patents','miners','unfair','sebi','firms','accepting','entities','notices','bharti','walmart','hiring','indulging','mncs','ore','guilty','allegedly','ayurvedic','stores',],['swarnjayanti','yojana','pmksy','rashtriya_krishi_vikas','bima','awaas','sadakyojana_pmgsy','jyoti','swarojgar','sgsy','iay','rkvy','abhiyan','pradhanmantri','sadak','krishi_sinchayee','deendayal','nirmal','nirman','awas','swarozgar','mantri','deen_dayal_upadhyaya','pradhan','yuva','flagship','gram','sagy','rggvy','kaushal_vikas',],['innovations','technological','innovation','apparel','vital','fashion','technologies','sustainable','competitiveness','agro','strategies','handicraft','holistic','skills','useful','electronics','textiles','inclusive','accelerate','agri','software','capabilities','cruise','pharma','manufacturing','hardware','implements','nodal','intensive','architecture',],['phone','roaming','connections','mobile','internet','calls','sms','signals','unsolicited','customers','portability_mnp','landline','sim','telephony','broadband','telephones','call_drops','dth','mobiles','cellular','cable','operators','telephone','gsm','subscribers','wireless','phones','consumers','digital','voice',],['arrivals','inflow','earnings','gdp','inflation','corresponding','wholesale','slowed','intensity','mortality','projection','slipped','maternal_mortality','fares','rose','underweight','airfares','emission','trend','fiscal','exports','imf','birth','gross','emissions','stands','contributes','product','rupee','fatalities',],['water','drinking','groundwater','potable','arsenic','contamination','ponds','ground','polluted','depletion','effluents','river','yamuna','harvesting','lakes','rain','rivers','fluoride','ganga','sewage','surface','poisonous','contaminated','pure','tributaries','toxic','garbage','drainage','depleting','reservoirs',],] \n",
    "\n",
    "Adam_512 = [['banks','nationalised','psbs','write','defaulters','borrowers','npa','nationalized','lenders','defaulted','npas','waived','loans','performing_assets_npas','corporates','sbi','nbfcs','performing_assets','loan','rbi','borrowing','debts','lending','atms','bank','kcc','waiver','psu','rrbs','lic',],['judges','appointment','judgement','supreme','judge','hearing','cic','court','petition','judicial','judgment','constitutional','backlog','proceedings','commissions','benches','affidavit','courts','commissioners','judiciary','governors','apex','ceo','honble','commissioner','verdict','appointments','chairperson','deputy','parliamentary',],['act','amending','amend','amendments','enacted','archaic','prohibition','laws','regulation','amendment','enact','lokpal','enactment','strictly','privacy','provisions','legislation','legislations','amended','acts','drafted','apmc','pocso','fema','abolition','purview','marriage','fundamental','code','penal_code',],['army','jawans','bsf','forces','ammunition','paramilitary','personnel','fighting','crpf','military','armed','civilians','itbp','deployed','wings','firing','navy','explosive','rifles','sophisticated','cisf','civilian','troops','battalions','weapons','resigned','naxalites','inducted','militants','helicopters',],['gdp','slowed','growth','contributes','quarter','lowest','trends','gross','projection','intensity','inflation','exports','output','economy','corresponding','rose','stands','dropped','iip','maternal_mortality','decline','imf','figure','projected','globally','percent','slowdown','earnings','steady','assocham',],['wheat','onion','rice','onions','pulses','paddy','edible','mustard','potato','rabi','cereals','soyabean','produces','sugarcane','bumper','tomato','dal','maize','grains','edible_oils','quintal','foodgrains','vegetables','horticultural','oilseeds','arhar','vegetable','cotton','fruits','genetically_modified',],['afghanistan','maldives','malaysia','washington','saarc','brazil','canada','germany','asean','israel','counterpart','bilateral','pact','paris','iran','brics','ties','america','dialogue','sri_lanka','uk','korea','fta','kingdom','negotiations','resume','russia','talks','europe','australia',],['railway','railways','rail','tracks','trains','junction','broad_gauge','gauge_conversion','narrow_gauge','rangia','emu','platforms','train','doubling','suburban','station','khurda','passenger','superfast','railwaysa','shatabdi','divisions','duronto','secunderabad','coach','rajdhani','ticketing','moradabad','collision','compartments',],['water','groundwater','drinking','potable','arsenic','contamination','depletion','ponds','rain','ground','harvesting','surface','polluted','effluents','river','yamuna','fluoride','rivers','sewage','ganga','lakes','poisonous','flood','garbage','pure','contaminated','toxic','reservoirs','depleting','flows',],['apparel','handicraft','promoting','handicrafts','fashion','handlooms','cottage','exclusive','nsdc','competitiveness','textiles','cluster','handloom','dairy','promote','tourism','innovations','cruise','powerloom','innovation','intensive','thrust','cooperatives','circuits','agro','artists','cultural','clusters','fpis','processing',],['juveniles','abduction','rapes','rape','kidnapping','trafficked','minors','heinous','infants','orphanages','murder','molestation','sexual','married','gang','abuse','honour_killings','destitute','crimes','assault','convicted','children','innocent','torture','dowry','mentally_challenged','trafficking','atrocities','spate','begging',],['flights','air','flight','ai','airlines','aircrafts','runway','landing','carriers','fleet','carrier','pilots','aircraft','airline','airports','kingfisher','jet_airways','baggage','boarding','cargo','airport','jet','minute','flying','planes','fares','aai','dreamliner','plane','trivandrum',],['yojana','sgsy','swarozgar','swarnjayanti','swarojgar','iay','pmksy','awaas','grameen_vidyutikaran','jyoti','bima','nirman','ujjwala','pmjdy','rashtriya_krishi_vikas','rsby','awas','grameen','rggvy','nirmal','deendayal','rajiv','deen_dayal_upadhyaya','jan_dhan','abhiyan','sadakyojana_pmgsy','sagy','rashtriya_swasthya_bima','gram','sabla',],['country','thecountry','proprietorship','ambitions','curtailed','pampa','discriminatory','pca','nadia','reward','grades','polavarammandal','inclination','andhumanity','bijni','sriperumbudur','sarakka','sam','ranthambhore','softwares','wear','kilted','percolation','conniving','planetariums','enacting','routine','whatsapp','valued','campaigna',],['power','coal','thermal','ntpc','captive','mw','cil','npcil','umpps','plants','coking','ultra_mega','uranium','manganese','megawatt','mines','reactors','steel','lignite','nuclear','nhpc','subsidiaries','gasification','ramagundam','upcoming','sail','mahanadi_coalfields','mcl','cpsus','thorium',],['phone','sim','mobile','roaming','calls','mobiles','gsm','phones','unsolicited','telephony','customers','signals','voice','sms','landline','portability_mnp','vodafone','subscribers','telephones','messages','cellular','internet','towers','wireless','providers','customer','telecom','circles','call_drops','computers',],['stretches','nh','sanctuary','stretch','lake','lane','highway','gir','km','highways','ring','trees','lanes','laning','habitats','elephant','kms','roads','narmada','nhs','sanctuaries','sq','expressways','protected','wetlands','expressway','conservation','lions','ecologically_sensitive','fauna',],['graduation','learning','students','teacher','affiliated','courses','iits','studying','taught','admissions','admission','teachers','iims','cbse','textbooks','teaching','colleges','academic','exams','universities','degrees','diploma','campuses','schools','coaching','pursue','secondary','professors','ncert','nits',],]"
   ]
  },
  {
   "cell_type": "code",
   "execution_count": null,
   "metadata": {},
   "outputs": [],
   "source": [
    "batches = []\n",
    "coherenceScores = []\n",
    "\n",
    "batches.append(\"Batch Size 64\")\n",
    "coherenceScores.append(get_coherenceScore(Adam_64))\n",
    "\n",
    "batches.append(\"Batch Size 128\")\n",
    "coherenceScores.append(get_coherenceScore(Adam_128))\n",
    "\n",
    "batches.append(\"Batch Size 256\")\n",
    "coherenceScores.append(get_coherenceScore(Adam_256))\n",
    "\n",
    "batches.append(\"Batch Size 512\")\n",
    "coherenceScores.append(get_coherenceScore(Adam_512))"
   ]
  },
  {
   "cell_type": "code",
   "execution_count": null,
   "metadata": {},
   "outputs": [],
   "source": [
    "print(batches)\n",
    "print(coherenceScores)"
   ]
  },
  {
   "cell_type": "code",
   "execution_count": null,
   "metadata": {},
   "outputs": [],
   "source": [
    "colors = ['lightslategray',] * 4\n",
    "colors[3] = 'crimson'\n",
    "\n",
    "fig = go.Figure()\n",
    "# Add traces\n",
    "fig.add_trace(\n",
    "    go.Bar(x=batches, y=coherenceScores,marker_color=colors)\n",
    ")\n",
    "fig.update_layout(title_text='Coherence Score on Different Batch Sizes')\n",
    "fig.update_traces(texttemplate=coherenceScores, textposition='outside')"
   ]
  },
  {
   "cell_type": "markdown",
   "metadata": {},
   "source": [
    "<b> Optimizer Selection</b>"
   ]
  },
  {
   "cell_type": "markdown",
   "metadata": {},
   "source": [
    "Loss evaluation"
   ]
  },
  {
   "cell_type": "code",
   "execution_count": null,
   "metadata": {},
   "outputs": [],
   "source": [
    "##Rmsprop Optmimizer\n",
    "Total_Loss_Rmsprop = [1.949402237663398, 0.7692610170390155, 0.6097962433421935, 0.5796614849084135, 0.5659447582186878, 0.5584121531731372, 0.5528655986528138, 0.5496096409655906, 0.5463917211100863, 0.545516756338042, 0.543225426931639, 0.5411842594275604, 0.5397323869370128, 0.537911426376652, 0.5368067291942802, 0.5368950491821443, 0.5354419918479147, 0.5355583288379618, 0.5341711857834377, 0.5331954227105988, 0.5325445798603264, 0.532018080756471, 0.531691195997032, 0.5302543108527724, 0.5303263104445225, 0.5295733720869633, 0.5301342276302542, 0.5284250394718069, 0.5287389139065871, 0.5283360783312774, 0.5276599836510582, 0.5282441405831154, 0.5275236964225768, 0.5268144192727837, 0.526859677723936, 0.5264262214705752, 0.5262360826537414, 0.5258643594948019, 0.5257285889741538, 0.5257610561879904, 0.5248457120882496, 0.5248571976616575, 0.5243971710269516, 0.5241075814575763, 0.5246089773403634, 0.5237762670259218, 0.5245601051562542, 0.5246146623347259, 0.5240886287914743, 0.5234351834735356]\n",
    "Max_Margin_Loss_Rmsprop = [0.9573023073576591, 0.7333811110741378, 0.505106620893285, 0.4751870779169574, 0.4615664429761266, 0.45406706208312825, 0.44855190430944036, 0.44531916947783673, 0.44207471367475143, 0.44119979038431817, 0.4388846022051734, 0.43683457173205714, 0.4353922251108531, 0.43353400600923053, 0.43239521315774404, 0.43248418215158807, 0.4310041243160094, 0.4311072375323321, 0.42969355973842976, 0.428706728526064, 0.4280281221947156, 0.42749866460626185, 0.4271572586652395, 0.4257017895579336, 0.4257638631640255, 0.42500143196131707, 0.4255545823960693, 0.4238347602454392, 0.424138992017991, 0.4237419997115391, 0.4230463176562982, 0.42362687434699087, 0.4229015361618352, 0.4221785084621328, 0.4222260832383823, 0.42179177278602437, 0.42159044903677856, 0.42120491995199316, 0.4210797636895564, 0.4211097124057845, 0.420177339702039, 0.42017885438493785, 0.41971277324734524, 0.41941416907954876, 0.4199232412753878, 0.4190852275571308, 0.41986760195042677, 0.41992437174996816, 0.4193926906666241, 0.41873090110115124]\n",
    "\n",
    "##sgd optimizer\n",
    "Total_Loss_Sgd = [2.410662343373169, 1.0808736230875995, 1.008924885778814, 1.0003978340206918, 0.9993912730668039, 0.9988102937066878, 0.9991688196723526, 0.9993697070592155, 0.9989725649356845, 0.9988078346123562, 0.9984466183829946, 0.9982221609837297, 0.9983730590021285, 0.9979812961977881, 0.9980764477639585, 0.9982182874872877, 0.997781315768087, 0.9977821095569714, 0.9977498807617139, 0.997245335901106, 0.9973049530306382, 0.9972832915750711, 0.9967771651777063, 0.9973878953102472, 0.9966932631827691, 0.9968682922221518, 0.9967617561688297, 0.996454057258528, 0.9962572970905819, 0.9962740693543405, 0.9962992313745853, 0.9959463332150437, 0.9958825953103401, 0.9961070792900553, 0.9959003881022733, 0.9953843339069474, 0.9949746595041173, 0.9950709185890251, 0.9953765816785197, 0.9950084730580054, 0.9950626178367717, 0.9950744980895841, 0.9949955013958185, 0.9944913181904198, 0.994143321304708, 0.9942085787251188, 0.9939638142650192, 0.9939066626735636, 0.9941674354108603, 0.993757258395891]\n",
    "Max_Margin_Loss_Sgd = [0.9999011102560403, 0.9998582988171963, 0.9994108850086059, 0.9994076482347541, 0.9992918223142621, 0.9987971408141622, 0.9991638140903932, 0.9993650574941895, 0.998967965712419, 0.998803622013814, 0.998441817792686, 0.998217482824584, 0.9983679273644007, 0.9979758415673233, 0.9980705698599688, 0.9982121925096257, 0.9977750766116225, 0.9977758075739884, 0.9977428627175257, 0.997237457214175, 0.9972967022174113, 0.9972759549682201, 0.9967695965960222, 0.99738008992092, 0.9966845278804364, 0.9968597309009446, 0.9967528819232379, 0.9964451137426734, 0.9962480676335252, 0.9962640867845429, 0.996289040188532, 0.9959363695737485, 0.9958721628865682, 0.9960961885548926, 0.9958888602417869, 0.9953712430354714, 0.9949613261867215, 0.9950577443515937, 0.9953635149710885, 0.9949946363230013, 0.9950480058386517, 0.9950591100228798, 0.9949795712490335, 0.9944748628783876, 0.9941256900091432, 0.9941910332119142, 0.9939457903037202, 0.993887130875845, 0.9941473546865824, 0.993736876426516]\n",
    "\n",
    "Total_Loss_Adagrad = [1.2269481521200487, 0.8305944723857416, 0.7556791063901542, 0.7083335414126115, 0.6770905542212562, 0.6547988637073622, 0.6369904722716357, 0.6226441662859273, 0.6106414887550714, 0.6007110299290841, 0.5903009788410086, 0.5824581900158445, 0.575502867634232, 0.5696884091641453, 0.5629136646921571, 0.5584528156228968, 0.5532702147155192, 0.5486036055796855, 0.5444109057252473, 0.5411924655373033, 0.5374194536660168, 0.5347074753529316, 0.530148298756496, 0.5280377603060489, 0.5251015267662102, 0.5237263867983946, 0.5216184073203317, 0.5189461271102364, 0.517368873027531, 0.5153805015457642, 0.5144852377675678, 0.5126236332832156, 0.5114711613671198, 0.5098875895948026, 0.5089911917174181, 0.5083496848473679, 0.5072090770747211, 0.5053974253100317, 0.5051464122292159, 0.5042702694599698, 0.5028159004208205, 0.5026078363125386, 0.501100929000893, 0.4999802499204067, 0.500358597853699, 0.4990053325891496, 0.49891669081675055, 0.49817628091251503, 0.4972947974865498, 0.4963848069310188]\n",
    "Max_Margin_Loss_Adagrad = [0.9287017434835436, 0.8243279336272058, 0.7442947908027749, 0.6939540642338828, 0.661067064549472, 0.6382512554929061, 0.6204030920524852, 0.6063945696160603, 0.5950932929644716, 0.5859589423682238, 0.5763990319258457, 0.5691859552989135, 0.563015067899549, 0.5579928872553082, 0.5518871670639192, 0.5480585331852373, 0.543379928211908, 0.5392033393318592, 0.5355498520909129, 0.5326695619402704, 0.5293132686937179, 0.5269615839462022, 0.5226483473906645, 0.5208887264535236, 0.5182176473978403, 0.5171474371407484, 0.515213993956914, 0.5127692959598592, 0.5114488249292247, 0.5095971858984718, 0.5088976321590913, 0.5072179485011745, 0.5062119382861495, 0.5047561016839904, 0.5039475169536233, 0.50345485355403, 0.5024251998276326, 0.500711631533262, 0.5005851486647449, 0.4997992263855161, 0.49843263243501246, 0.4983182849513515, 0.49685811875639746, 0.4958592621055807, 0.4963428599608911, 0.4950218633622736, 0.4949925632492914, 0.4943082848110714, 0.4935094977955561, 0.4926218384423771]\n",
    "\n",
    "##adadelta\n",
    "Total_Loss_Adadelta = [1.366152572873476, 0.9876947854016279, 0.9550721520507662, 0.9153850859886895, 0.8853191898481265, 0.8597996259057841, 0.8352785408496858, 0.8147014895000974, 0.7953900263921634, 0.7799124294841613, 0.7632828459546378, 0.7506956486283117, 0.7392817204063005, 0.7292977599678809, 0.7191251757982613, 0.7103444535184549, 0.7024610650700492, 0.6959645127927935, 0.6883793755157575, 0.6819103815265605, 0.6761765745845998, 0.6698675348952009, 0.6639050708429232, 0.657946260394277, 0.6530994752774365, 0.6473193039765229, 0.642474413723559, 0.6382470352424158, 0.6326326309023679, 0.6301279132430618, 0.62674184908738, 0.6232138437193793, 0.6211725328419659, 0.6177472999772502, 0.6166903473235464, 0.6142960895557656, 0.6124238093962541, 0.6093625337690922, 0.6082454553327044, 0.6060285201749289, 0.6043948092170663, 0.6024751848465688, 0.6016481357651783, 0.5997231485875875, 0.5978119647180713, 0.5965253324122043, 0.5947154389845359, 0.5940544834813555, 0.593224257230759, 0.5921828815260448]\n",
    "Max_Margin_Loss_Adadelta = [0.9980471142240473, 0.9875694678441898, 0.9548052049971912, 0.9148860879846519, 0.8843047051010908, 0.8578866249000703, 0.831994314048742, 0.8098052172241984, 0.7888375355585202, 0.7715921764438218, 0.7536864602887954, 0.73942833132035, 0.7271549540597048, 0.7160245594946117, 0.7057849833288709, 0.6968708569939073, 0.6888911043469969, 0.6826715582125895, 0.6754277292135602, 0.6690670823728714, 0.6639254894610999, 0.6579492909682759, 0.6522657057723483, 0.6466370720315621, 0.642323800035425, 0.6369521827311128, 0.6326775591115692, 0.6287476565386801, 0.6235175370364575, 0.6213920974248166, 0.6182223087227021, 0.6150410811643345, 0.6132474912179481, 0.6099757640748417, 0.6089615386885566, 0.6068608978310149, 0.6051045019884367, 0.6022223870496491, 0.6012392197106338, 0.5990255624055861, 0.5975448948306004, 0.5957487249696577, 0.5950274221800469, 0.5930454984710029, 0.591308967084498, 0.5900967443311536, 0.588323157784101, 0.5876942260845289, 0.5869456058418427, 0.5859362724665051]\n",
    "\n",
    "#adammax\n",
    "Total_Loss_Adammax = [1.8048063411905957, 0.8897493231940915, 0.7971617579460144, 0.7100031867220598, 0.6515729286380719, 0.611719519705386, 0.5847265502891023, 0.5629685327813433, 0.5474291870722897, 0.53622302735174, 0.5281638925945437, 0.5213465360370845, 0.5168160961286441, 0.5118000040183196, 0.5078224831738989, 0.5046762103164519, 0.5017129456674732, 0.5001949309497267, 0.49802460783236724, 0.4963683087278059, 0.4946345209672643, 0.49413341505301966, 0.4920349332529143, 0.491343556223689, 0.4914806469066722, 0.4899140813866174, 0.4892244403426714, 0.4887403227590226, 0.48838132237260423, 0.4875573850161319, 0.48726001462420904, 0.48695864004863254, 0.48597495459221524, 0.48641078657395104, 0.4852040299289933, 0.4854329506287703, 0.4850084405090356, 0.48431337584514866, 0.4842592552304266, 0.4833298476563917, 0.48303193880899553, 0.4832371370615184, 0.48261339297971223, 0.4821583117182189, 0.48257305634182823, 0.4815128026781855, 0.4824077533306302, 0.48212085483041967, 0.4814882254278337, 0.48157379655419186]\n",
    "Max_Margin_Loss_Adammax = [0.9632087430438482, 0.8879141533696975, 0.7875954951788927, 0.692225716806747, 0.6357083948882851, 0.6011257944880305, 0.5772866920844928, 0.5574773586279637, 0.5430510748882551, 0.5324448882728011, 0.5248559258274132, 0.5182997634684721, 0.5139873229168558, 0.50911048336609, 0.5052217690123093, 0.5021618572441306, 0.4992581434749269, 0.4977594664370691, 0.4956592593241385, 0.49408655774754423, 0.4923895786742907, 0.49188818037509907, 0.4898261238594311, 0.4891263828487011, 0.48931323052258086, 0.48776204441044774, 0.48706826245462576, 0.4866016768925899, 0.48622843945348576, 0.4854480144945349, 0.48512416715557516, 0.4848730159369674, 0.48385654409994927, 0.48429582106906044, 0.4831181939791992, 0.4833279483624404, 0.4829195387460091, 0.48220477575385867, 0.4821458527365247, 0.48123179355988643, 0.48094323358020247, 0.48111188230482294, 0.4804998477165764, 0.48006594946255565, 0.4804693992073471, 0.4794152399172655, 0.48028503620141283, 0.4800160509106274, 0.47938361240399824, 0.47949777765048507]\n"
   ]
  },
  {
   "cell_type": "code",
   "execution_count": null,
   "metadata": {},
   "outputs": [],
   "source": [
    "fig = go.Figure()\n",
    "# Add traces\n",
    "fig.add_trace(\n",
    "    go.Scatter(x=epochs, y=Total_Loss_Adam512, name=\"Adam\")\n",
    ")\n",
    "fig.add_trace(\n",
    "    go.Scatter(x=epochs, y=Total_Loss_Rmsprop, name=\"RmsProp\")\n",
    ")\n",
    "fig.add_trace(\n",
    "    go.Scatter(x=epochs, y=Total_Loss_Sgd, name=\"SGD\")\n",
    ")\n",
    "fig.add_trace(\n",
    "    go.Scatter(x=epochs, y=Total_Loss_Adagrad, name=\"AdaGrad\")\n",
    ")\n",
    "fig.add_trace(\n",
    "    go.Scatter(x=epochs, y=Total_Loss_Adadelta, name=\"AdaDelta\")\n",
    ")\n",
    "fig.add_trace(\n",
    "    go.Scatter(x=epochs, y=Total_Loss_Adammax, name=\"AdaMax\")\n",
    ")\n",
    "# Add figure title\n",
    "fig.update_layout(\n",
    "    title_text=\"Total Loss\"\n",
    ")\n",
    "\n",
    "# Set x-axis title\n",
    "fig.update_xaxes(title_text=\"Epochs\")\n",
    "fig.update_yaxes(range=[0.45, 0.9])\n",
    "fig.show()"
   ]
  },
  {
   "cell_type": "code",
   "execution_count": null,
   "metadata": {},
   "outputs": [],
   "source": [
    "fig = go.Figure()\n",
    "# Add traces\n",
    "fig.add_trace(\n",
    "    go.Scatter(x=epochs, y=Max_Margin_Loss_Adam512, name=\"Adam\")\n",
    ")\n",
    "fig.add_trace(\n",
    "    go.Scatter(x=epochs, y=Max_Margin_Loss_Rmsprop, name=\"RmsProp\")\n",
    ")\n",
    "fig.add_trace(\n",
    "    go.Scatter(x=epochs, y=Max_Margin_Loss_Sgd, name=\"SGD\")\n",
    ")\n",
    "fig.add_trace(\n",
    "    go.Scatter(x=epochs, y=Max_Margin_Loss_Adagrad, name=\"AdaGrad\")\n",
    ")\n",
    "fig.add_trace(\n",
    "    go.Scatter(x=epochs, y=Max_Margin_Loss_Adadelta, name=\"AdaDelta\")\n",
    ")\n",
    "fig.add_trace(\n",
    "    go.Scatter(x=epochs, y=Max_Margin_Loss_Adammax, name=\"AdaMax\")\n",
    ")\n",
    "# Add figure title\n",
    "fig.update_layout(\n",
    "    title_text=\"Max Margin Loss\"\n",
    ")\n",
    "\n",
    "# Set x-axis title\n",
    "fig.update_xaxes(title_text=\"Epochs\")\n",
    "fig.update_yaxes(range=[0.4, 1.1])\n",
    "fig.show()"
   ]
  },
  {
   "cell_type": "markdown",
   "metadata": {},
   "source": [
    "Coherence Scores"
   ]
  },
  {
   "cell_type": "code",
   "execution_count": null,
   "metadata": {},
   "outputs": [],
   "source": [
    "Rmsprop = [['firing','fighting','itbp','civilians','jawans','bsf','rifles','militants','pak','encounter','crpf','troops','naxals','extremists','encounters','pirates','battalion','army','soldiers','tibetan','war','helicopter','plane','navy','hands','insurgency','naxalites','paramilitary','killings','bombs',],['mitigate','apprehension','tremendous','pressure','urbanization','extreme','reeling','magnitude','farm','adding','debts','erratic','waves','solutions','turning','situation','depletion','mounting','challenge','significantly','stress','climatic','pests','countrya','rain','fertility','shrinking','liquidity','farmers','npas',],['affiliated','taught','courses','campuses','diploma','graduation','nits','sanskrit','admissions','teacher','professors','textbooks','iims','iits','colleges','degrees','coaching','phil','undergraduate','institutes','nit','learning','fellowships','pursue','prestigious','studying','universities','amu','aicte','admission',],['edible','mustard','dal','onions','cereals','rice','spices','arhar','maize','vegetable','tomato','horticultural','wheat','oilseeds','soyabean','onion','pulses','yarn','edible_oils','potato','processed','bumper','meat','quintal','acreage','produces','grains','rabi','adulterated','lifted',],['thermal','power','ntpc','coal','captive','manganese','umpps','npcil','plants','cil','mw','coking','ultra_mega','mcl','mahanadi_coalfields','uranium','lignite','ore','gasification','mines','cpsus','nalco','megawatt','upcoming','ramagundam','subsidiaries','hydro','steel','blocks','nhpc',],['amending','net_neutrality','archaic','enact','drafting','lokpal','uniformity','nac','amendments','abolition','privacy','effectiveness','amend','ncpcr','drafted','swaminathan','processes','contemplates','procedures','transparency','simplify','code','legislations','amended','enforce','nfsb','incorporate','alia','apmc','formulation',],['waived','borrowers','waiver','nationalised','npa','write','lenders','defaulters','defaulted','npas','performing_assets','psbs','payable','performing_assets_npas','nationalized','accrued','borrowing','infusion','kingfisher','nbfcs','profits','corporates','transaction','debt','dividend','incurring','disbursement','sum','banks','sbi',],['molestation','convicted','rapes','juveniles','offences','abduction','dowry','kidnapping','custodial','minors','conviction','pocso','rape','honour_killings','heinous','murder','robbery','gang','cases','investigated','torture','crimes','narcotic','killings','spate','abuse','acid','sexual','gangs','misbehaviour',],['passenger','baggage','shatabdi','sleeper','duronto','fares','ac','flight','minute','fleet','rajdhani','journey','emu','superfast','air','runway','passengers','coaches','bus','ai','travelling','howrah','ticket','booking','flights','dirty','secunderabad','trivandrum','jet_airways','suburban',],['lakes','ponds','polluted','tributaries','lake','water','conservation','groundwater','effluents','birds','flowing','nrcp','harvesting','depleting','biodiversity','himalayas','river','wetlands','mahanadi','gir','wells','narmada','ecologically_sensitive','fauna','contamination','habitat','flora','lions','krishna','glaciers',],['physically_challenged','manual_scavengers','educated','migrant','unskilled','destitute','landless','beedi','disadvantaged','aged','differently_abled','deprived','weaker','scs','economically_weaker_sections','adolescent','upliftment','nomadic','needy','socially','kids','unorganised','seekers','rehabilitated','mentally_retarded','trafficked','physically','living','adult','unemployed',],['narrow_gauge','junction','moradabad','barpeta','broad_gauge','rangia','gauge_conversion','bareilly','mathura','tanakpur','khurda','saharanpur','hajipur','railway','tunnel','puri','via','jalgaon','golden_quadrilateral','ghat','doubling','kanyakumari','bridges_robs','rampur','bilaspur','busy','bypass','udaipur','flyover','connecting',],['sim','messages','sms','unsolicited','telephones','customers','vodafone','secret','computers','debit','voice','distributors','signals','roaming','proof','portability_mnp','calls','valid','cellular','harassing','phones','bogus','notices','portability','bharti','dubious','id','phone','mobiles','unfair',],['swarnjayanti','pmksy','swarojgar','rashtriya_krishi_vikas','jyoti','sgsy','krishi_sinchayee','swarozgar','sadakyojana_pmgsy','rkvy','deendayal','pradhanmantri','awaas','yojana','deen_dayal_upadhyaya','ujjwala','rggvy','sadak','phases','iay','grameen_vidyutikaran','nhm','sagy','yuva','grameen','nirmal','sbm','bima','mantri','nirman',],['secretariat','deputy','manager','cadres','backlog','chairperson','chairmanship','managing_director','promotions','cic','ad_hoc','allowances','professor','retired','assistant','film_certification_cbfc','appointment','cadre','governors','deputation','commissioner','cmd','principal','parliamentary','bureaucrats','appointments','ceo','subsequent','departmental','deputed',],['country','hardwares','handled','stands','marginally','pmay','calendar','expected','statewise','palatable','bdl','projected','bpt','slipped','reconsidering','thecountry','reduces','bartered','ontheir','onboard','touched','four','weeks','credible','quotations','patenting','break','malaha','countrys','profligate',],['brazil','brics','asean','paris','summit','washington','saarc','malaysia','maldives','kingdom','dialogue','pact','resume','mauritius','bilateral','africa','canada','iran','uk','negotiations','indonesia','counterpart','afghanistan','korea','america','ties','relations','fta','talks','asia',],['apparel','promoting','cruise','exclusive','thrust','hardware','nsdc','competitiveness','encouraging','innovations','cottage','collaboration','promote','attracting','hubs','handicraft','expanding','handlooms','iti','understanding_mou','expertise','japanese','fpis','biotechnology','electronics','organize','itdc','venture','financed','nodal',],]\n",
    "\n",
    "Sgd = [['sikkim','dominated','uttar','ne','warangal','jnvs','lwe','darjeeling','patan','hill','pradesh','hilly','concentrated','bundelkhand','locations','kangra','adilabad','khammam','crafts','telangana','ner','himachal','tripura','kbk','bihar','amreli','madhya','frontier','angul','jaisalmer',],['accrued','borrowers','lenders','defaulters','nationalised','waived','sum','write','defaulted','npa','accumulated','payable','infusion','refund','npas','unaccounted','indirect','performing_assets','pf','borrowing','dividend','borrowings','unclaimed','infuse','deposit','corporates','exchequer','waive','bonds','dues',],['doubled','dropped','touched','annum','corresponding','rose','twenty','declined','stands','slipped','thirty','crossed','projection','forty','approximately','half','nearly','average','fallen','lowest','fourteen','gone','goes','figure','barrel','projected','annually','cumulative','respectively','quarter',],['accelerate','integrate','devise','popularize','augment','formulating','modernize','formulate','initiate','chalked','contemplates','dynamic','devised','mulling','focusing','architecture','actively','capabilities','evolve','aiming','friendly','exclusive','streamline','efficient','innovations','encourage','integration','thinking','evolved','strengthen',],['surprise','guilty','indulging','unfair','connivance','fraudulent','notices','dubious','malpractices','compulsorily','misleading_advertisements','barred','misused','obscene','allegedly','violation','inspection','misuse','narcotic','corrupt','checks','complying','evidence','contents','unlawful','cheating','genuine','unauthorized','accepting','pretext',],['edible','onions','cereals','onion','vegetable','pulses','arhar','dal','fruits','tomato','maize','oilseeds','potato','vegetables','edible_oils','rice','mustard','horticultural','produces','wheat','spices','yarn','processed','soyabean','paddy','quintal','meat','rabi','grains','acreage',],['malaysia','asean','brics','maldives','korea','saarc','brazil','washington','pact','germany','israel','counterpart','russia','vietnam','summit','bilateral','canada','fta','afghanistan','indonesia','negotiations','ties','uk','paris','kingdom','wto','dialogue','america','africa','switzerland',],['swarnjayanti','pmksy','rashtriya_krishi_vikas','rkvy','swarojgar','krishi_sinchayee','sgsy','jyoti','awaas','yojana','swarozgar','sagy','bima','abhiyan','pmkvy','iay','nirman','yuva','sadak','sadakyojana_pmgsy','grameen_vidyutikaran','deendayal','kaushal_vikas','nirmal','rggvy','pradhanmantri','fasal_bima','pmjdy','awas','sbm',],['chairmanship','recommending','gom','petition','honble','sam_pitroda','petitions','constitutional','anil_kakodkar','governors','rajya_sabha','suggestion','hon_ble','cpc','affidavit','referred','reply','judgement','recommendation','lokpal','observations','appeal','empowered','hearing','ceo','hona_ble','principal','cauvery','net_neutrality','judgment',],['encounters','killings','civilians','encounter','militants','killing','attacks','firing','riots','detained','terrorists','murder','strikes','custodial','juveniles','militant','custody','rifles','innocent','torture','naxalites','policemen','militancy','arrested','spate','casualties','insurgency','gang','fighting','killed',],['passenger','flights','sleeper','boarding','minute','passengers','baggage','shatabdi','journey','flight','ac','duronto','fares','rajdhani','coaches','landing','aircrafts','fare','berths','departure','fog','trivandrum','tier','ai','fleet','cargo','jet_airways','carriers','superfast','ticket',],['phone','landline','mobile','broadband','roaming','subscribers','portability_mnp','telephony','call_drops','wireless','dth','circles','gsm','telephones','internet','calls','mobiles','towers','signals','mtnl','bsnl','connections','providers','phones','telephone','provider','operators','unsolicited','circle','sms',],['nits','graduation','professors','courses','diploma','iims','affiliated','iits','graduate','campuses','mbbs','taught','teaching','exams','faculty','undergraduate','dental','phil','prestigious','junior','sanskrit','examinations','exam','degree','institutes','colleges','entrance','academic','qualified','pursue',],['mcl','ntpc','mahanadi_coalfields','npcil','nalco','manganese','ramagundam','coking','bccl','gasification','thermal','ril','captive','ongc','bhel','cairn','sail','electricals','ore','subsidiaries','drilling','cil','coal','hindustan_aeronautics','lignite','vedanta','cpsus','nmdc','aluminium','bauxite',],['flyover','bypass','rampur','moradabad','narrow_gauge','udaipur','khurda','meerut','bareilly','kanyakumari','tunnel','saharanpur','tanakpur','bilaspur','broad_gauge','vadodara','junction','lucknow','ring','elevated','rangia','bridges_robs','flyovers','kalyan','mathura','laning','jharsuguda','barpeta','ajmer','golden_quadrilateral',],['destitute','aged','widows','mentally_challenged','mothers','adult','differently_abled','physically_challenged','adolescent','homeless','landless','elderly','slums','disabilities','mentally_retarded','kids','migrant','socially','anaemia','manual_scavengers','needy','scs','married','beedi','muslims','weaker','orphanages','female','economically_weaker_sections','underweight',],['lakes','fauna','ecologically_sensitive','flora','biodiversity','wetlands','conservation','fertile','degradation','birds','species','glaciers','gir','endangered','forests','lions','western_ghats','sanctuaries','deforestation','polluted','bird','erosion','sanctuary','bio_diversity','sand','trees','encroachment','critically','tributaries','wildlife',],['unprecedented','erratic','reeling','severe','climatic','sudden','witnessing','apprehension','urbanization','affects','adversely','hardships','deficient','posed','effects','extreme','tremendous','alarmingly','weak','adverse','affecting','overcome','magnitude','hardship','arising','factors','plight','dearth','alarming','mitigate',],]\n",
    "\n",
    "Adagrad = [['yojana','swarozgar','pmksy','sgsy','bima','grameen_vidyutikaran','pmjdy','rsby','jyoti','awaas','iay','ujjwala','swarojgar','nirman','jan_dhan','rashtriya_swasthya_bima','rggvy','rashtriya_krishi_vikas','swarnjayanti','sagy','awas','deen_dayal_upadhyaya','saansad_adarsh','mantri','grameen','krishi_sinchayee','gram','nirmal','pmkvy','rkvy',],['cadres','officers','deputation','cadre','ips','retired','assistant','ias','secretariat','deputed','scales','irs','bureaucrats','ifs','departmental','allowances','posts','positions','resigned','retirement','employees','officer','appointment','recruit','judges','staff','vacancies','appointments','posting','pensioners',],['india','alliance','korea','maldives','malaysia','usa','russia','brazil','indiaa','saarc','washington','israel','europe','indonesia','indias','sign','africa','ranked','germany','brics','america','uk','mauritius','asia_pacific','singapore','bilateral','asean','vietnam','australia','pact',],['borrowers','defaulters','banks','write','nationalised','psbs','npa','lenders','nationalized','npas','defaulted','corporates','waived','nbfcs','sbi','borrowing','performing_assets_npas','borrowings','loan','loans','performing_assets','unaccounted','rbi','atms','lending','accrued','waiver','debt','transactions','deposit',],['details','alongwith','thereon','wise','bipin','indicating','thereto','therefor','along','eaten','thereof','staffs','themillennium','hovercrafts','smus','outdoor','kunbi','locations','bhatgaon','rubs','therefrom','athletics','prescribing','unending','dyes','inauguration','clcss','ut','personality','dates',],['country','thecountry','airfaresby','banjara','statewise','therequired','departmentto','sarpanches','magnitude','malignant','scarcity','disbursal','mi','professionaland','deficient','cbm','voip','infection','bedwetting','austerity','eroded','insults','character','pati','result','dystrophy','ssc','alphonsa','countering','dwindling',],['onion','onions','edible','pulses','rice','wheat','mustard','cereals','produces','potato','tomato','edible_oils','dal','arhar','yarn','soyabean','vegetables','prices','spices','rabi','quintal','oilseeds','fruits','bumper','maize','commodities','sugar','paddy','vegetable','sugarcane',],['years','last','three','year','yearwise','wise','five','current','months','two','corresponding','therefrom','ago','past','wheelers','previous','break','calendar','levelled','inception','couple','ten','separately','fifteen','twenty','recorded','volume','oak','prs','ending',],['cruise','hubs','exclusive','apparel','technologies','popularize','fashion','vital','hardware','promoting','tech','ayush','ayurveda','software','innovations','holistic','innovation','geo','iti','naturopathy','electronics','talent','integrate','eco','agro','architecture','computer','art','navigation','aiming',],['amending','lokpal','enacted','amendments','amendment','legislations','constitutional','rajya_sabha','appeal','enactment','ipc','alia','ipr','penal_code','net_neutrality','petitions','lok_sabha','rti','ordinance','resolution','reply','assent','passed','comments','marriage','laws','pocso','observations','abolition','ncpcr',],['sim','dubious','messages','unfair','malpractices','sms','notices','unsolicited','phones','indulging','racket','misleading_advertisements','obscene','phone','voice','vodafone','calls','cheating','contents','websites','signals','false','fraudulent','instruments','filing','guilty','newspapers','bharti','customers','cellular',],['power','coal','thermal','captive','ntpc','mw','cil','npcil','plants','umpps','ultra_mega','coking','mines','reactors','uranium','manganese','gasification','steel','lignite','megawatt','nuclear','sail','ramagundam','thorium','iron_ore','mcl','plant','upcoming','subsidiaries','blocks',],['water','lakes','polluted','groundwater','river','rivers','ponds','tributaries','contamination','yamuna','ganga','effluents','depletion','rain','glaciers','flood','harvesting','ground','erosion','reservoirs','flows','depleting','arsenic','flowing','floods','toxic','biodiversity','pollution','sewage','potable',],['passenger','trains','shatabdi','duronto','rajdhani','train','superfast','emu','journey','railway','coaches','passengers','ticket','junction','suburban','ac','howrah','travelling','railways','collision','sleeper','fare','rail','plying','platforms','compartments','secunderabad','trivandrum','minute','booking',],['terrorists','pak','militants','firing','troops','extremists','pok','pakistani','insurgency','rifles','militant','intrusion','pirates','afghanistan','civilians','militancy','encounters','infiltrators','terrorist','itbp','naxalites','infiltration','fighting','intruded','maoists','ceasefire','isi','kashmiri','naxals','tibetan',],['pradesh','warangal','adilabad','andhra','nalgonda','khammam','bilaspur','gwalior','angul','telangana','madhya','shimla','tirupati','jharsuguda','kangra','ap','vijayawada','puri','sambalpur','uttar','himachal','moradabad','belgaum','rampur','lake','mathura','amaravati','jabalpur','ghat','odisha',],['juveniles','children','trafficked','orphanages','destitute','infants','rape','aged','married','abduction','mentally_challenged','minors','rapes','kidnapping','juvenile','abuse','beggars','convicted','kids','sexual','trafficking','rescued','anaemia','begging','abused','marriage','child','leprosy','dowry','homes',],['students','learning','graduation','iits','academic','studying','courses','teacher','taught','affiliated','cbse','iims','textbooks','degrees','exams','admission','universities','admissions','pursue','coaching','xii','schools','teachers','ncert','education','teaching','student','school','campuses','secondary',],]\n",
    "\n",
    "Adadelta = [['number','many','numbers','majority','total','presently','undermine','newsprint','roshnia','converge','tihar_jail','brutal','orphanages','percentage','matures','registered','mismatch','detail','pushkar','cadet','shallow','female','survadi','envisage','abandoning','neutralized','gbpnihesd','bangon','employed','seater',],['details','thereof','therefor','salient_features','specific','thereto','timeline','thereon','forbes','reaction','exhaustive','ambari','jagran','steelplant','ofpolytechnic','infirm','forimproving','alongwith','corrective','revert','recipients','japana','ceyhan','libya','natco','locations','seams','compulsions','insulted','keratectomy',],['erratic','beings','deadly','epidemic','grave','outbreak','unrest','alarmingly','extreme','widespread','pests','behaviour','untimely','witnessing','starvation','anaemia','fear','damaging','destruction','occurrence','magnitude','lots','occurring','climatic','militant','dying','poisonous','presence','excessive','marathwada',],['india','alliance','indiaa','indias','korea','maldives','malaysia','russia','sign','indonesia','israel','washington','saarc','ranked','endedmarch','brazil','star','germany','usa','singapore','asia_pacific','mauritius','africa','brics','afghanistan','europe','bilateral','switzerland','pact','sri_lanka',],['corporates','amounting','waiver','sum','lenders','transaction','waived','nationalised','scams','unaccounted','defaulters','borrowers','accrued','nationalized','npas','ponzi','defaulted','breach','frauds','investor','donations','stashed','hurdle','jan_dhan','refund','payments','laundering','kcc','unclaimed','tune',],['easier','facilitate','incorporate','defined','drafted','considers','friendly','educate','seeks','ensuring','easy','encourage','formulate','introduce','enable','clogging','envisages','amending','leaf','ofnot','enact','henry','contemplating','contemplates','chink','affordable','lsopam','iwt','removing','sustainable',],['state','states','ut','uts','territories','swarojgar','nhm','swarnjayanti','centrally_sponsored','deendayal','rmsa','devolution','grameen','rashtriya_madhyamik_shiksha_abhiyan','nrlm','upliftment','pris','nsap','msdp','anganwadis','csss','brgf','reorganization','de_addiction','dominated','progammes','rajasthan','jharkhand','puducherry','swarozgar',],['last','years','three','year','yearwise','wise','five','current','corresponding','two','months','therefrom','previous','calendar','separately','ending','inception','past','till','break','ago','ten','statewise','couple','ut','recorded','wheelers','fifteen','queries','decreased',],['pak','pok','occupied','troops','kashmiri','afghanistan','detained','migrants','pirates','disputed','militants','intruded','immigrants','loc','infiltrators','talk','ceasefire','bangladeshi','hindus','intrusion','terrorists','rifles','civilians','refugees','migrated','firing','nationals','insurgent','extremists','infiltration',],['bulk','yields','blending','margin','litre','decontrol','subsidised','onions','ethanol','middlemen','tonne','spices','fuels','futures','cane','quintal','fluctuations','mustard','contracted','excess','vat','atf','sell','tomato','urea','edible','mt','barrel','cheap','producers',],['portability_mnp','journey','booking','sheets','read','id','tatkal','negligible','counters','circles','ticket','inconvenience','proof','baggage','signals','parked','availing','avail','cylinder','tickets','customers','delivered','circle','boarding','portability','attendance','sms','ltc','landline','minute',],['pursue','amu','coaching','iits','scholarship','scholarships','fellowships','professors','admissions','undergraduate','campuses','taught','aligarh_muslim','nits','obc','hostel','scholars','classes','matric','students','mother','xii','graduation','studying','ncert','maulana_azad','degrees','iims','physically_handicapped','economically',],['capability','missile','cruise','sophisticated','equipped','software','installations','hardware','helicopter','inducted','hire','vessels','radar','indigenously','partner','ayurveda','plane','tools','navigation','helicopters','tejas','collaboration','planes','car','singapore','equipments','advanced','equipment','naval','specialized',],['question','filing','ceo','lokpal','questions','writing','controversy','file','comments','petition','petitions','reply','fir','investigate','dopt','criticized','anomalies','allegations','observations','affidavit','verdict','asking','suggesting','vice_chancellor','hearing','apex','opinion','political_parties','evidence','honble',],['umpps','captive','manganese','drilling','leases','joint_ventures','bidding','mous','executing','utilities','various','excavation','developers','cpsus','npcil','pacts','bauxite','clearances','auctioned','ownership','joint_venture','tenders','upcoming','ultra_mega','mcl','gasification','ore','ntpc','bidders','partnerships',],['country','thecountry','junagadh','revising','countrys','cpa','farms','rapidly','brothers','dwindling','carrom','padmanabhaswamy','hobbled','pollachi','halved','bhadrachalam','outright','across','foothpath','ivri','maharastra','careless','rosiglitazone','isimplementing','ccim','murdoch','attributes','magnitude','nimoritv','theeleventh',],['gwalior','adilabad','bilaspur','bareilly','moradabad','angul','warangal','rourkela','sambalpur','puri','nalgonda','jabalpur','jharsuguda','saharanpur','rampur','ghat','tirupati','vijayawada','nuapada','jalgaon','indore','kangra','howrah','raipur','thane','bolangir','bhagalpur','nagpur','khurda','junction',],['dearness_allowance','positions','vacant','assistant','ifs','deputed','cadres','posts','cadre','allowances','secretariat','scales','employeesa','casual','lying','retired','cisf','managers','contractual','ips','promotions','para','officers','vacancies','posting','departmental','although','semi','grade','employees',],]\n",
    "\n",
    "Adammax = [['unorganised','manual_scavengers','migrant','beedi','landless','homeless','unskilled','widows','physically_challenged','destitute','labourers','aged','mothers','workers','living','unorganized','families','deprived','live','allowance','needy','casual','seekers','adult','slums','differently_abled','female','educated','disabilities','mentally_retarded',],['afghanistan','maldives','pak','malaysia','counterpart','pok','myanmar','pakistan','israel','ties','washington','dialogue','diplomatic','talk','pakistani','peace','asean','bangladesh','korea','nepal','vietnam','sri_lanka','iran','saarc','germany','resume','china','bhutan','russia','disputed',],['students','learning','taught','graduation','iits','campuses','universities','studying','admissions','schools','iims','teacher','affiliated','courses','cbse','textbooks','academic','admission','sanskrit','coaching','colleges','navodaya','degrees','vidyalayas','pursue','nits','unaided','secondary','school','teaching',],['apparel','handicraft','handicrafts','cottage','leather','textiles','textile','industry','attracting','intensive','agro','competitiveness','promoting','handlooms','fpis','pharma','cruise','clusters','tourism','handloom','processing','msme','powerloom','cluster','oriented','exclusive','fashion','artisans','vital','thrust',],['gdp','corresponding','exports','slowed','growth','projection','inflow','contributes','earnings','quarter','arrivals','gross','intensity','inflation','fiscal','deficit','rose','projected','imports','output','lowest','indirect','rupee','percent','trends','recorded','slipped','stands','dropped','capita',],['defaulters','banks','write','defaulted','nationalised','sbi','npa','borrowers','nbfcs','lenders','psbs','corporates','nationalized','rbi','waived','npas','bank','borrowing','performing_assets','performing_assets_npas','shares','unaccounted','transaction','kcc','deposits','transactions','psu','loan','loans','lending',],['lakes','polluted','ponds','river','water','sand','effluents','rivers','narmada','conservation','tributaries','reservoirs','lake','wells','ecologically_sensitive','wetlands','flowing','gir','erosion','groundwater','fauna','critically','stretches','western_ghats','adjacent','dams','encroachment','forests','canals','biodiversity',],['farmers','rain','drought','rainfall','mitigate','sowing','farm','monsoon','crop','apprehension','power','farming','electricity','farmer','agricultural','marathwada','floods','agriculture','flood','irrigation','suicide','water','tremendous','groundwater','growers','vidarbha','debts','drip','mount','cloud',],['flights','flight','air','airlines','ai','runway','landing','airports','aircrafts','carriers','airport','carrier','airline','kingfisher','jet_airways','fleet','aai','aircraft','boarding','cargo','baggage','trivandrum','pilots','minute','jet','fares','privatise','passenger','flying','mangalore',],['rice','wheat','edible','pulses','grains','onions','mustard','cereals','onion','maize','paddy','foodgrains','edible_oils','dal','vegetables','produces','tomato','genetically_modified','rabi','vegetable','potato','soyabean','oilseeds','sugarcane','fruits','quintal','arhar','bumper','sugar','fodder',],['phone','calls','mobile','sms','phones','sim','unsolicited','roaming','telephony','signals','telephones','internet','portability_mnp','mobiles','landline','messages','customers','dth','networks','connections','computers','towers','gsm','voice','subscribers','cable','providers','call_drops','telephone','wireless',],['power','coal','thermal','ntpc','captive','mw','npcil','cil','plants','umpps','ultra_mega','coking','uranium','nuclear','reactors','mines','manganese','gasification','megawatt','nhpc','upcoming','steel','atomic','ramagundam','mcl','kudankulam','hydro','mahanadi_coalfields','energy','reactor',],['constitutional','lokpal','petitions','amending','rajya_sabha','appeal','legislations','ordinance','hearing','net_neutrality','petition','amendment','judgement','legislative','enacted','assent','constitution','honble','suggestion','passed','alia','resolution','amendments','reply','observations','comments','hon_ble','judgment','ncpcr','cpc',],['murder','juveniles','killings','rapes','abduction','heinous','gang','rape','robbery','molestation','custodial','minors','encounters','kidnapping','offences','honour_killings','crimes','torture','spate','dengue','tihar_jail','dowry','riots','acid','incidents','assault','encounter','innocent','cases','convicted',],['accreditation','analysis','tested','nutrition','reveals','vaccine','scientist','medicine','audits','undp','findings','tb','cancer','evaluate','experts','unicef','genetically_modified_gm','health','swaminathan','diagnostic','risks','isro','intellectual_property','immunization','highlighted','innovative','transforming','sample','aerb','effectiveness',],['railway','rail','tracks','narrow_gauge','junction','broad_gauge','gauge_conversion','khurda','railways','doubling','rangia','moradabad','busy','bypass','tanakpur','flyovers','station','flyover','suburban','crossing','trains','expressway','bridges_robs','tunnel','secunderabad','mathura','divisions','bareilly','emu','nh',],['swarnjayanti','swarojgar','sgsy','sadakyojana_pmgsy','yojana','pmksy','rashtriya_krishi_vikas','pradhanmantri','awaas','jyoti','rkvy','swarozgar','nirmal','abhiyan','sadak','iay','gram','rggvy','yuva','krishi_sinchayee','pmgsy','nirman','sagy','deendayal','bima','grameen_vidyutikaran','mantri','kaushal_vikas','grameen','deen_dayal_upadhyaya',],['deputation','retired','cadres','cadre','ips','assistant','ifs','officers','deputed','resigned','irs','secretariat','ias','bureaucrats','scales','departmental','para','posts','wings','posted','army','posting','retirement','engineers','recruit','allowances','officer','specialist','personnel','paramilitary',],]\n"
   ]
  },
  {
   "cell_type": "code",
   "execution_count": null,
   "metadata": {},
   "outputs": [],
   "source": [
    "batches = []\n",
    "coherenceScores = []\n",
    "\n",
    "batches.append(\"adam\")\n",
    "coherenceScores.append(get_coherenceScore(Adam_512))\n",
    "\n",
    "batches.append(\"rmsprop\")\n",
    "coherenceScores.append(get_coherenceScore(Rmsprop))\n",
    "\n",
    "batches.append(\"sgd\")\n",
    "coherenceScores.append(get_coherenceScore(Sgd))\n",
    "\n",
    "batches.append(\"adagrad\")\n",
    "coherenceScores.append(get_coherenceScore(Adagrad))\n",
    "\n",
    "batches.append(\"adadelta\")\n",
    "coherenceScores.append(get_coherenceScore(Adadelta))\n",
    "\n",
    "batches.append(\"adammax\")\n",
    "coherenceScores.append(get_coherenceScore(Adammax))"
   ]
  },
  {
   "cell_type": "code",
   "execution_count": null,
   "metadata": {},
   "outputs": [],
   "source": [
    "print(batches)\n",
    "print(coherenceScores)"
   ]
  },
  {
   "cell_type": "markdown",
   "metadata": {},
   "source": [
    "Coherence Scores"
   ]
  },
  {
   "cell_type": "code",
   "execution_count": null,
   "metadata": {},
   "outputs": [],
   "source": [
    "colors = ['lightslategray',] * 6\n",
    "colors[0] = 'crimson'\n",
    "\n",
    "fig = go.Figure()\n",
    "# Add traces\n",
    "fig.add_trace(\n",
    "    go.Bar(x=batches, y=coherenceScores,marker_color=colors)\n",
    ")\n",
    "fig.update_layout(title_text='Coherence Score on Different Batch Sizes')\n",
    "fig.update_traces(texttemplate=coherenceScores, textposition='outside')"
   ]
  },
  {
   "cell_type": "markdown",
   "metadata": {},
   "source": [
    "<b> Experiments with learning rate</b>"
   ]
  },
  {
   "cell_type": "code",
   "execution_count": null,
   "metadata": {},
   "outputs": [],
   "source": [
    "#Adam lr 0.01\n",
    "Total_Loss_adamlr01 = [0.9130303827491965, 0.576207351845664, 0.5479935979520957, 0.5362776795754559, 0.5297558593588906, 0.525862027261708, 0.5229074475733008, 0.5201604475040692, 0.5188074836859832, 0.5175176814601228, 0.5172906115248398, 0.5160469306079115, 0.5149869546294212, 0.5147915472452701, 0.5145137573818903, 0.5131913010735767, 0.5122453771732948, 0.5120633548578699, 0.5118729284888988, 0.5111012905836104, 0.5112540262776453, 0.5101385728732959, 0.5095869308790644, 0.5099611272280281, 0.5097785731022425, 0.5087973507674964, 0.5090988882490104, 0.5086951513548155, 0.5086146532683757, 0.5094991255853627, 0.5077498988122553, 0.507205545499518, 0.5075192534037541, 0.5075464572858166, 0.5071554798129442, 0.506799503355413, 0.506938183428468, 0.506903088777452, 0.5068395594890052, 0.5069431678668871, 0.5067399212637463, 0.5070616550542212, 0.5061111756273219, 0.5062816855875221, 0.5067636421000633, 0.5060055837840647, 0.5052744136066051, 0.5050153869229396, 0.5053861100931426, 0.5058533732552785]\n",
    "Max_Margin_Loss_adamlr01 = [0.6476666834708802, 0.4787244500743374, 0.44771430540729235, 0.43414272508911195, 0.42681102796986325, 0.42250268402937285, 0.41941376594272817, 0.4166174607502445, 0.415223912210078, 0.41398371212385804, 0.41384932257839124, 0.41254446756195395, 0.41152849793434104, 0.41132121271378264, 0.4111208653933294, 0.4097877032047994, 0.4088965642291146, 0.40872908725931845, 0.4085484668612481, 0.40784920752048515, 0.4080712082418235, 0.4069243458074492, 0.4063644312523508, 0.4067696900786581, 0.4065638843017656, 0.40562622551176986, 0.4059051792766596, 0.40553478413337, 0.40558900382067725, 0.40641282418289687, 0.4046577259495453, 0.40410908674066137, 0.40452105692915, 0.404546013353644, 0.40423797433440756, 0.40389473675876053, 0.40409222184806265, 0.4040871069237992, 0.4040628415909973, 0.4041633215304968, 0.4039370685413076, 0.4042862490624995, 0.40339561632356147, 0.4035840964800604, 0.4042189374968813, 0.40351847881400943, 0.402774727626427, 0.4024940793578691, 0.4029301296214801, 0.403337967556876]\n",
    "\n",
    "#adam lr 0.01\n",
    "Total_Loss_adamlr1 = [0.8282625884623145, 0.5702843223069166, 0.5030947392051283, 0.4868995408351355, 0.4790759561835109, 0.4748585804088696, 0.47217949479818344, 0.4699021265716164, 0.46720238674331344, 0.46704389175047745, 0.4654150564928315, 0.46475672782272914, 0.46485348166646207, 0.463720469861417, 0.4635645712952355, 0.4634228121187236, 0.4616087318674938, 0.4619517465298239, 0.4616443510796572, 0.4618230872863049, 0.4618320396623096, 0.46127801851646305, 0.46135854137104904, 0.4610434392014066, 0.4607745201603786, 0.46002135284849105, 0.46030613417560984, 0.45969557782282733, 0.4599178842193374, 0.46019060990294863, 0.4601926485428937, 0.459216734444773, 0.45974789096696966, 0.4599391030701434, 0.45952301995979766, 0.4584533924589286, 0.4584713102997964, 0.45855223830487274, 0.4582325818168149, 0.4592418149113658, 0.458608758409281, 0.4584527454666186, 0.45811093699287714, 0.4583472883379137, 0.45815869601997167, 0.45787306210479206, 0.45785118780426104, 0.457591535875926, 0.45723207113710584, 0.4583419364046409]\n",
    "Max_Margin_Loss_adamlr1 = [0.7406545716363031, 0.568401481251459, 0.5014182812458758, 0.4852813945428747, 0.4774633128498052, 0.4732800083788666, 0.47057660346901087, 0.4683108807012842, 0.4656038830006445, 0.46547756605857127, 0.4638820894666621, 0.4631980645495492, 0.46332160202232575, 0.4621926066843239, 0.462043103334066, 0.4619087854752671, 0.4600807013543873, 0.46041652600507443, 0.46012022829539084, 0.4603015607273259, 0.46032211083818114, 0.45975602982011976, 0.4598497784621007, 0.45954512583242885, 0.4592505304797276, 0.45850268630562596, 0.45883010629866566, 0.4582151661853533, 0.4584289295850575, 0.45873187341400107, 0.45872411615139747, 0.45776611526270145, 0.45823660794947574, 0.4584949103158873, 0.45806047582143045, 0.4570177894186332, 0.4570240859647057, 0.457149261155644, 0.45680128501073713, 0.4578174767461982, 0.45715149995442983, 0.457049687166472, 0.456715343771754, 0.4569317263525885, 0.4567546614923993, 0.45644974426643287, 0.45644139136011513, 0.45622384950921335, 0.4558429397843981, 0.4569661689771188]"
   ]
  },
  {
   "cell_type": "code",
   "execution_count": null,
   "metadata": {},
   "outputs": [],
   "source": [
    "fig = go.Figure()\n",
    "# Add traces\n",
    "fig.add_trace(\n",
    "    go.Scatter(x=epochs, y=Total_Loss_Adam512, name=\"Lr 0.001\")\n",
    ")\n",
    "fig.add_trace(\n",
    "    go.Scatter(x=epochs, y=Total_Loss_adamlr01, name=\"Lr 0.01\")\n",
    ")\n",
    "fig.add_trace(\n",
    "    go.Scatter(x=epochs, y=Total_Loss_adamlr1, name=\"LR 0.1\")\n",
    ")\n",
    "# Add figure title\n",
    "fig.update_layout(\n",
    "    title_text=\"Total Loss vs Learning Rate\"\n",
    ")\n",
    "\n",
    "# Set x-axis title\n",
    "fig.update_xaxes(title_text=\"Epochs\")\n",
    "fig.update_yaxes(range=[0.3, 0.9])\n",
    "fig.show()"
   ]
  },
  {
   "cell_type": "code",
   "execution_count": null,
   "metadata": {},
   "outputs": [],
   "source": [
    "fig = go.Figure()\n",
    "# Add traces\n",
    "fig.add_trace(\n",
    "    go.Scatter(x=epochs, y=Max_Margin_Loss_Adam512, name=\"LR 0.001\")\n",
    ")\n",
    "fig.add_trace(\n",
    "    go.Scatter(x=epochs, y=Max_Margin_Loss_adamlr01, name=\"LR 0.01\")\n",
    ")\n",
    "fig.add_trace(\n",
    "    go.Scatter(x=epochs, y=Max_Margin_Loss_adamlr1, name=\"LR 0.1\")\n",
    ")\n",
    "# Add figure title\n",
    "fig.update_layout(\n",
    "    title_text=\"Max Margin Loss vs Learning Rate\"\n",
    ")\n",
    "\n",
    "# Set x-axis title\n",
    "fig.update_xaxes(title_text=\"Epochs\")\n",
    "fig.update_yaxes(range=[0.3, 0.7])\n",
    "fig.show()"
   ]
  },
  {
   "cell_type": "code",
   "execution_count": null,
   "metadata": {},
   "outputs": [],
   "source": [
    "##adam lr 0.01\n",
    "adam_Lr01 = [['hajipur','kangra','tanakpur','bilaspur','rohru','jalgaon','adilabad','angul','nuapada','narrow_gauge','constituency','ghat','bolangir','kalyan','foundation_stone','bareilly','gorakhpur','barpeta','varanasi','udaipur','kbk','thane','koraput','ballia','nandla','pithoragarh','nalgonda','shimla','khurda','jharsuguda',],['india','alliance','korea','indiaa','star','malaysia','maldives','singapore','sign','europe','indias','indonesia','brazil','washington','asia_pacific','resume','mauritius','usa','germany','russia','saarc','israel','vietnam','africa','asean','ranked','brics','fta','switzerland','pact',],['country','reeling','burden','suicides','alarmingly','debts','waves','suicide','touched','jams','heat','statewise','wheelers','debt','monsoon','dismal','unseasonal_rains','proved','rainfall','starvation','factor','fold','intensity','pressure','cope','malaria','hunger','accumulated','weather','deficient',],['passenger','journey','superfast','duronto','train','compartments','emu','travellers','shatabdi','suburban','rajdhani','trains','bus','trivandrum','minute','travelling','junction','passengers','sleeper','howrah','derailment','ticket','commuters','ac','collision','booking','railway','amritsar','busy','coaches',],['swarozgar','yuva','sgsy','jyoti','nrlm','masses','digital','flagship','inclusive','successful','pmegp','goals','alleviation','talent','rashtriya_krishi_vikas','optical_fibre','saansad_adarsh','millennium','pmksy','mudra','promoting','swarnjayanti','incredible','swarojgar','nofn','kaushal_vikas','decentralized','startup','deen_dayal_upadhyaya','sagy',],['psbs','nationalised','defaulters','defaulted','npa','borrowers','write','npas','lenders','corporates','banks','nationalized','performing_assets','psu','nbfcs','rrbs','performing_assets_npas','atms','sector','securities','quit','profits','waived','debit','sbi','indirectly','cpses','enterprise','lending','transactions',],['lakes','polluted','ponds','wetlands','conservation','effluents','water','groundwater','lake','tributaries','river','fit','narmada','harvesting','birds','habitat','nrcp','gir','okhla','critically','bird','depleting','contamination','ecologically_sensitive','wastes','lions','fauna','sand','solid','biodiversity',],['last','years','three','yearwise','year','wise','two','five','past','current','months','separately','therefrom','corresponding','break','ago','inception','custodial','fifteen','ut','statewise','previous','ending','ten','utilised','calendar','couple','volume','wheelers','till',],['destitute','manual_scavengers','homeless','beedi','dependents','physically','allowance','aged','pregnant','needy','widows','casual','unskilled','mentally_retarded','rashtriya_swasthya_bima','asha','tea_garden','rehabilitated','bonded','physically_challenged','adolescent','landless','unorganised','helpers','maternity','mothers','sabla','anganwadis','rsby','mentally_challenged',],['country','attracting','farms','county','thecountry','oriented','encouraging','hampering','concentrated','dwindling','hubs','currently','boosting','constantly','abundant','cottage','rapidly','exploitation','encouraged','playing','expanding','impacting','kalamassery','imparted','agro','mainly','across','processed','animal','globally',],['militant','pak','pakistani','hindus','terrorists','racial','migrants','afghanistan','bangladeshi','infiltrators','bombs','killings','firing','intrusion','immigrants','nationals','ceasefire','insurgent','encounters','fear','innocent','tension','heinous','isis','outfits','militants','encounter','attacked','strikes','trapped',],['legislations','amending','alia','nac','enacted','pursuance','constitutional','recommend','lokpal','strictly','appeal','ncpcr','net_neutrality','observations','hearing','suggestion','petitions','speedy','ordinance','comments','legislative','apex','amendment','rollout','hon_ble','enact','swaminathan','gom','rajya_sabha','suggest',],['cooking','adulterated','ethanol','cylinder','fuels','mrp','kerosene','compressed','blending','superior','packaged','insecticides','branded','liquefied','brands','cylinders','edible_oils','weight','packed','spurious','bulbs','subsidized','pump','excess','grains','dal','quantities','bulk','containing','cereals',],['growers','sugarcane','yarn','acreage','bonus','potato','cotton','produces','kharif','onions','quintal','onion','cultivation','dairy','rabi','rebate','wholesale','waiver','tea','mustard','oilseeds','animal_husbandry','productivity','bt_cotton','marginal','yields','coffee','rice','pulses','futures',],['power','thermal','ntpc','captive','coal','umpps','mw','ultra_mega','npcil','ramagundam','nhpc','megawatt','gasification','plants','cil','upcoming','hydro','hydroelectric','hydel','reactors','mcl','jaitapur','joint_ventures','joint_venture','posco','cpsus','mahanadi_coalfields','lignite','coking','bhel',],['affiliated','taught','professors','graduation','textbooks','admissions','sanskrit','teaching','diploma','nits','vice_chancellor','phil','exam','fellowships','learning','ncert','campuses','vice_chancellors','urdu','teacher','exams','aicte','amu','undergraduate','teachers','nit','cbse','junior','degrees','studying',],['licence','operator','roaming','cancel','cellular','circles','licenses','dial','vodafone','dot','signals','tenders','subscribers','voice','license','wireless','gsm','sim','tendering','issuance','exit','circle','portability_mnp','unified','noc','mahanagar_telephone_nigam','cable','levying','vvip','malpractices',],['capabilities','drdo','ammunition','capability','clothing','tools','hardware','inducted','missile','explosive','ordnance_factories','fighter','sophisticated','equipments','wing','procure','hands','manpower','electronics','modern','ayush','procuring','apparel','tejas','military','software','paramilitary','army','deploy','wings',],]\n",
    "\n",
    "#adam lr 0.1\n",
    "adam_Lr1 = [['banks','psbs','borrowers','write','defaulters','npa','nationalised','nationalized','npas','performing_assets_npas','defaulted','rbi','borrowing','lenders','performing_assets','loans','bank','waived','loan','sbi','lending','nbfcs','corporates','debts','borrowings','rrbs','atms','deposits','credit','waiver',],['naxalites','encounters','civilians','insurgency','naxalite','terrorists','encounter','militants','maoists','firing','killings','bsf','extremists','fighting','crpf','naxals','jawans','militant','naxalism','paramilitary','maoist','troops','innocent','itbp','rifles','killing','attacks','policemen','forces','strikes',],['power','mw','thermal','energy','megawatt','megawatts','ntpc','solar','hydro','reactors','plants','generation','electricity','reactor','generating','nuclear','renewable','ultra_mega','nhpc','umpps','wind','kudankulam','rooftop','hydel','grid','npcil','atomic','fuel','jaitapur','ramagundam',],['constitutional','lokpal','petition','judgement','hearing','petitions','appeal','rajya_sabha','honble','cic','cpc','observations','anomalies','ceo','judgment','legislations','commissions','verdict','reply','constitution','composition','legislative','appeals','court','ordinance','lok_sabha','filing','passed','hon_ble','writing',],['phone','calls','sim','mobile','unsolicited','customers','roaming','signals','phones','sms','networks','mobiles','vodafone','telephones','telephony','portability_mnp','landline','internet','messages','voice','providers','gsm','telecom','cable','towers','operators','subscribers','cellular','misleading_advertisements','computers',],['learning','graduation','taught','students','iits','teacher','universities','iims','affiliated','courses','admissions','textbooks','campuses','cbse','studying','sanskrit','academic','admission','schools','colleges','coaching','nits','degrees','navodaya','pursue','institutes','secondary','exams','teachers','undergraduate',],['railway','railways','trains','rail','tracks','platforms','emu','suburban','railwaysa','broad_gauge','junction','train','passenger','shatabdi','divisions','narrow_gauge','rangia','station','gauge_conversion','ticketing','stalls','duronto','compartments','rajdhani','irctc','superfast','coach','coaches','ticket','secunderabad',],['washington','brazil','malaysia','israel','germany','maldives','canada','afghanistan','brics','pact','saarc','russia','asean','uk','korea','kingdom','iran','mauritius','america','negotiations','fta','vietnam','paris','dialogue','bilateral','africa','counterpart','indonesia','ties','summit',],['lignite','bauxite','ore','mines','leases','coal','manganese','mcl','mining','gmdc','mahanadi_coalfields','iron_ore','vedanta','mine','miners','coalfields','minerals','extraction','excavation','mineral','posco','drilling','lease','bccl','captive','stone','sand','blocks','hills','forests',],['years','last','three','year','yearwise','five','two','wise','programmefor','current','months','past','mohlai','rests','fdr','mtcr','saurashtraand','chichira','postgraduates','ucil','inpossession','shatab','ucbs','naicker','sovereignity','corresponding','kalam','tangdar','magwani','interested',],['onion','onions','wheat','rice','pulses','potato','rabi','produces','bumper','soyabean','quintal','paddy','cereals','mustard','edible','tomato','vegetables','edible_oils','dal','sugarcane','maize','horticultural','oilseeds','fruits','grains','kharif','arhar','acreage','sowing','vegetable',],['flights','air','flight','ai','airlines','aircrafts','runway','carrier','carriers','landing','fleet','airports','kingfisher','airline','aircraft','airport','cargo','aai','jet_airways','pilots','jet','flying','minute','privatise','fares','dreamliner','trivandrum','planes','baggage','boarding',],['infants','children','kids','aged','anaemia','destitute','malnutrition','mothers','malnourished','marriage','child','beggars','abused','begging','underweight','married','leprosy','juveniles','prevalence','elderly','female','abuse','trafficked','orphanages','juvenile','marriages','mortality','adult','hiv','rape',],['handicraft','apparel','handicrafts','leather','textiles','competitiveness','cottage','msme','tourism','textile','promoting','intensive','industry','thrust','attracting','oriented','handloom','agro','cluster','innovation','handlooms','cooperatives','inclusive','fpis','cruise','powerloom','processing','dairy','clusters','exclusive',],['yojana','bima','swarozgar','rsby','ujjwala','pmjdy','sgsy','deen_dayal_upadhyaya','jyoti','nirman','rashtriya_swasthya_bima','iay','pmksy','grameen','jan_dhan','awaas','swarojgar','rajiv','grameen_vidyutikaran','nirmal','awas','swarnjayanti','gramin','saansad_adarsh','sagy','aay','deendayal','sabla','abhiyan','rggvy',],['highway','highways','lane','nh','roads','road','laning','stretches','expressways','nhs','stretch','ring','expressway','lanes','km','bypass','kms','nhai','nhdp','flyovers','length','bridges','widening','toll','golden_quadrilateral','kilometers','toll_plazas','rampur','bridges_robs','bro',],['doctors','specialists','engineers','contractual','unani','specialist','esi','dispensaries','safdarjung_hospital','nursing','empanelled','sciences_aiims','cghs','ayurvedic','deputation','employee','hospital','retired','retirement','employeesa','dispensary','resigned','employees','inducted','ayurveda','esic','hands','quit','homoeopathy','cabin_crew',],['water','groundwater','lakes','contamination','river','ponds','ground','polluted','arsenic','harvesting','effluents','rivers','drinking','rain','tributaries','yamuna','potable','ganga','depletion','fluoride','reservoirs','flood','surface','flows','depleting','soil','toxic','flowing','narmada','glaciers',],]"
   ]
  },
  {
   "cell_type": "code",
   "execution_count": null,
   "metadata": {},
   "outputs": [],
   "source": [
    "batches = []\n",
    "coherenceScores = []\n",
    "\n",
    "batches.append(\"Lr 0.001\")\n",
    "coherenceScores.append(get_coherenceScore(Adam_512))\n",
    "\n",
    "batches.append(\"Lr 0.01\")\n",
    "coherenceScores.append(get_coherenceScore(adam_Lr01))\n",
    "\n",
    "batches.append(\"Lr 0.1\")\n",
    "coherenceScores.append(get_coherenceScore(adam_Lr1))\n"
   ]
  },
  {
   "cell_type": "code",
   "execution_count": null,
   "metadata": {},
   "outputs": [],
   "source": [
    "print(batches)\n",
    "print(coherenceScores)"
   ]
  },
  {
   "cell_type": "code",
   "execution_count": null,
   "metadata": {},
   "outputs": [],
   "source": [
    "colors = ['lightslategray',] * 3\n",
    "colors[0] = 'crimson'\n",
    "\n",
    "fig = go.Figure()\n",
    "# Add traces\n",
    "fig.add_trace(\n",
    "    go.Bar(x=batches, y=coherenceScores,marker_color=colors)\n",
    ")\n",
    "fig.update_layout(title_text='Coherence Score on Different Batch Sizes')\n",
    "fig.update_traces(texttemplate=coherenceScores, textposition='outside')"
   ]
  },
  {
   "cell_type": "code",
   "execution_count": null,
   "metadata": {},
   "outputs": [],
   "source": []
  },
  {
   "cell_type": "code",
   "execution_count": null,
   "metadata": {},
   "outputs": [],
   "source": []
  },
  {
   "cell_type": "markdown",
   "metadata": {},
   "source": [
    "<b>Top N Terms vs Coherence</b>"
   ]
  },
  {
   "cell_type": "code",
   "execution_count": null,
   "metadata": {},
   "outputs": [],
   "source": [
    "topNterms = []\n",
    "coherenceScores = []\n",
    "\n",
    "for i in range (5,31,5):\n",
    "    topNterms.append(i)\n",
    "    coherenceScores.append(get_coherenceScore([item[:i] for item in adam_Lr1]))"
   ]
  },
  {
   "cell_type": "code",
   "execution_count": null,
   "metadata": {},
   "outputs": [],
   "source": [
    "print(topNterms)\n",
    "print(coherenceScores)"
   ]
  },
  {
   "cell_type": "code",
   "execution_count": null,
   "metadata": {},
   "outputs": [],
   "source": [
    "fig = go.Figure()\n",
    "# Add traces\n",
    "fig.add_trace(\n",
    "    go.Scatter(x=topNterms, y=coherenceScores,text=coherenceScores)\n",
    ")\n",
    "\n",
    "# Add figure title\n",
    "fig.update_layout(\n",
    "    title_text=\"Top N Aspect Terms vs Coherence\"\n",
    ")\n",
    "\n",
    "# Set x-axis title\n",
    "fig.update_xaxes(title_text=\"Aspect Terms\")\n",
    "fig.update_yaxes(title_text=\"Coherence Score\")\n",
    "#fig.update_yaxes()\n",
    "fig.show()"
   ]
  },
  {
   "cell_type": "code",
   "execution_count": null,
   "metadata": {},
   "outputs": [],
   "source": []
  },
  {
   "cell_type": "code",
   "execution_count": null,
   "metadata": {},
   "outputs": [],
   "source": []
  },
  {
   "cell_type": "code",
   "execution_count": null,
   "metadata": {},
   "outputs": [],
   "source": []
  },
  {
   "cell_type": "code",
   "execution_count": null,
   "metadata": {},
   "outputs": [],
   "source": []
  },
  {
   "cell_type": "code",
   "execution_count": null,
   "metadata": {},
   "outputs": [],
   "source": []
  },
  {
   "cell_type": "code",
   "execution_count": null,
   "metadata": {},
   "outputs": [],
   "source": []
  }
 ],
 "metadata": {
  "kernelspec": {
   "display_name": "Python 3",
   "language": "python",
   "name": "python3"
  },
  "language_info": {
   "codemirror_mode": {
    "name": "ipython",
    "version": 3
   },
   "file_extension": ".py",
   "mimetype": "text/x-python",
   "name": "python",
   "nbconvert_exporter": "python",
   "pygments_lexer": "ipython3",
   "version": "3.7.0"
  }
 },
 "nbformat": 4,
 "nbformat_minor": 2
}
