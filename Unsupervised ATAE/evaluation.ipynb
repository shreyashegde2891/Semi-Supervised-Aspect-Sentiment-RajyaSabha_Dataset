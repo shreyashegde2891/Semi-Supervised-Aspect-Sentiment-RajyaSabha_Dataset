{
 "cells": [
  {
   "cell_type": "code",
   "execution_count": null,
   "metadata": {},
   "outputs": [],
   "source": [
    "import nltk\n",
    "nltk.download('stopwords')"
   ]
  },
  {
   "cell_type": "code",
   "execution_count": null,
   "metadata": {},
   "outputs": [],
   "source": [
    "import pandas as pd\n",
    "import numpy as np\n",
    "\n",
    "\n",
    "import string\n",
    "import re\n",
    "from pprint import pprint\n",
    "\n",
    "# NLTK \n",
    "from nltk.corpus import stopwords\n",
    "from nltk.stem.wordnet import WordNetLemmatizer\n",
    "from nltk.corpus import stopwords\n",
    "stop_words = stopwords.words('english') #this depends on each language\n",
    "\n",
    "# Gensim\n",
    "import gensim\n",
    "import gensim.corpora as corpora\n",
    "from gensim.utils import simple_preprocess\n",
    "from gensim.models import CoherenceModel\n",
    "\n",
    "# spacy for lemmatization\n",
    "import spacy\n",
    "\n",
    "# Plotting tools\n",
    "import pyLDAvis\n",
    "import pyLDAvis.gensim  \n",
    "import matplotlib.pyplot as plt\n",
    "%matplotlib inline\n",
    "\n",
    "# Enable logging for gensim - optional\n",
    "import logging\n",
    "logging.basicConfig(format='%(asctime)s : %(levelname)s : %(message)s', level=logging.ERROR)\n",
    "np.random.seed(2020)\n",
    "import warnings\n",
    "warnings.filterwarnings(\"ignore\",category=DeprecationWarning)"
   ]
  },
  {
   "cell_type": "code",
   "execution_count": null,
   "metadata": {},
   "outputs": [],
   "source": [
    "df = pd.read_csv('input_csv/QA_set.csv',engine='python')\n",
    "df.drop(df.columns[0], axis=1,inplace=True)\n",
    "df"
   ]
  },
  {
   "cell_type": "code",
   "execution_count": null,
   "metadata": {},
   "outputs": [],
   "source": [
    "import argparse\n",
    "import logging\n",
    "import numpy as np\n",
    "from time import time\n",
    "import import_ipynb\n",
    "import utils as U\n",
    "import codecs\n",
    "\n",
    "logging.basicConfig(\n",
    "    # filename='out.log',\n",
    "    level=logging.INFO,\n",
    "    format='%(asctime)s %(levelname)s %(message)s')\n",
    "logger = logging.getLogger(__name__)"
   ]
  },
  {
   "cell_type": "code",
   "execution_count": null,
   "metadata": {},
   "outputs": [],
   "source": [
    "aspects = [['banks','psbs','borrowers','write','defaulters','npa','nationalised','nationalized','npas','performing_assets_npas','defaulted','rbi','borrowing','lenders','performing_assets','loans','bank','waived','loan','sbi','lending','nbfcs','corporates','debts','borrowings','rrbs','atms','deposits','credit','waiver',],['naxalites','encounters','civilians','insurgency','naxalite','terrorists','encounter','militants','maoists','firing','killings','bsf','extremists','fighting','crpf','naxals','jawans','militant','naxalism','paramilitary','maoist','troops','innocent','itbp','rifles','killing','attacks','policemen','forces','strikes',],['power','mw','thermal','energy','megawatt','megawatts','ntpc','solar','hydro','reactors','plants','generation','electricity','reactor','generating','nuclear','renewable','ultra_mega','nhpc','umpps','wind','kudankulam','rooftop','hydel','grid','npcil','atomic','fuel','jaitapur','ramagundam',],['constitutional','lokpal','petition','judgement','hearing','petitions','appeal','rajya_sabha','honble','cic','cpc','observations','anomalies','ceo','judgment','legislations','commissions','verdict','reply','constitution','composition','legislative','appeals','court','ordinance','lok_sabha','filing','passed','hon_ble','writing',],['phone','calls','sim','mobile','unsolicited','customers','roaming','signals','phones','sms','networks','mobiles','vodafone','telephones','telephony','portability_mnp','landline','internet','messages','voice','providers','gsm','telecom','cable','towers','operators','subscribers','cellular','misleading_advertisements','computers',],['learning','graduation','taught','students','iits','teacher','universities','iims','affiliated','courses','admissions','textbooks','campuses','cbse','studying','sanskrit','academic','admission','schools','colleges','coaching','nits','degrees','navodaya','pursue','institutes','secondary','exams','teachers','undergraduate',],['railway','railways','trains','rail','tracks','platforms','emu','suburban','railwaysa','broad_gauge','junction','train','passenger','shatabdi','divisions','narrow_gauge','rangia','station','gauge_conversion','ticketing','stalls','duronto','compartments','rajdhani','irctc','superfast','coach','coaches','ticket','secunderabad',],['washington','brazil','malaysia','israel','germany','maldives','canada','afghanistan','brics','pact','saarc','russia','asean','uk','korea','kingdom','iran','mauritius','america','negotiations','fta','vietnam','paris','dialogue','bilateral','africa','counterpart','indonesia','ties','summit',],['lignite','bauxite','ore','mines','leases','coal','manganese','mcl','mining','gmdc','mahanadi_coalfields','iron_ore','vedanta','mine','miners','coalfields','minerals','extraction','excavation','mineral','posco','drilling','lease','bccl','captive','stone','sand','blocks','hills','forests',],['years','last','three','year','yearwise','five','two','wise','programmefor','current','months','past','mohlai','rests','fdr','mtcr','saurashtraand','chichira','postgraduates','ucil','inpossession','shatab','ucbs','naicker','sovereignity','corresponding','kalam','tangdar','magwani','interested',],['onion','onions','wheat','rice','pulses','potato','rabi','produces','bumper','soyabean','quintal','paddy','cereals','mustard','edible','tomato','vegetables','edible_oils','dal','sugarcane','maize','horticultural','oilseeds','fruits','grains','kharif','arhar','acreage','sowing','vegetable',],['flights','air','flight','ai','airlines','aircrafts','runway','carrier','carriers','landing','fleet','airports','kingfisher','airline','aircraft','airport','cargo','aai','jet_airways','pilots','jet','flying','minute','privatise','fares','dreamliner','trivandrum','planes','baggage','boarding',],['infants','children','kids','aged','anaemia','destitute','malnutrition','mothers','malnourished','marriage','child','beggars','abused','begging','underweight','married','leprosy','juveniles','prevalence','elderly','female','abuse','trafficked','orphanages','juvenile','marriages','mortality','adult','hiv','rape',],['handicraft','apparel','handicrafts','leather','textiles','competitiveness','cottage','msme','tourism','textile','promoting','intensive','industry','thrust','attracting','oriented','handloom','agro','cluster','innovation','handlooms','cooperatives','inclusive','fpis','cruise','powerloom','processing','dairy','clusters','exclusive',],['yojana','bima','swarozgar','rsby','ujjwala','pmjdy','sgsy','deen_dayal_upadhyaya','jyoti','nirman','rashtriya_swasthya_bima','iay','pmksy','grameen','jan_dhan','awaas','swarojgar','rajiv','grameen_vidyutikaran','nirmal','awas','swarnjayanti','gramin','saansad_adarsh','sagy','aay','deendayal','sabla','abhiyan','rggvy',],['highway','highways','lane','nh','roads','road','laning','stretches','expressways','nhs','stretch','ring','expressway','lanes','km','bypass','kms','nhai','nhdp','flyovers','length','bridges','widening','toll','golden_quadrilateral','kilometers','toll_plazas','rampur','bridges_robs','bro',],['doctors','specialists','engineers','contractual','unani','specialist','esi','dispensaries','safdarjung_hospital','nursing','empanelled','sciences_aiims','cghs','ayurvedic','deputation','employee','hospital','retired','retirement','employeesa','dispensary','resigned','employees','inducted','ayurveda','esic','hands','quit','homoeopathy','cabin_crew',],['water','groundwater','lakes','contamination','river','ponds','ground','polluted','arsenic','harvesting','effluents','rivers','drinking','rain','tributaries','yamuna','potable','ganga','depletion','fluoride','reservoirs','flood','surface','flows','depleting','soil','toxic','flowing','narmada','glaciers',],]"
   ]
  },
  {
   "cell_type": "code",
   "execution_count": null,
   "metadata": {
    "scrolled": true
   },
   "outputs": [],
   "source": [
    "top10_terms = [item[:10] for item in aspects]\n",
    "aspect_top10 = [item for sublist in top10_terms for item in sublist]\n",
    "aspect_top10 = [sub.replace('_', ' ') for sub in aspect_top10] "
   ]
  },
  {
   "cell_type": "code",
   "execution_count": null,
   "metadata": {},
   "outputs": [],
   "source": [
    "top20_terms = [item[:10] for item in aspects]\n",
    "aspect_top20 = [item for sublist in top20_terms for item in sublist]\n",
    "aspect_top20 = [sub.replace('_', ' ') for sub in aspect_top10] "
   ]
  },
  {
   "cell_type": "code",
   "execution_count": null,
   "metadata": {},
   "outputs": [],
   "source": [
    "def top20_aspect(question):\n",
    "    res = [ele for ele in aspect_top20 if(ele in question)] \n",
    "    keywords = ' '.join([str(elem) for elem in res])\n",
    "    return keywords"
   ]
  },
  {
   "cell_type": "code",
   "execution_count": null,
   "metadata": {},
   "outputs": [],
   "source": [
    "def top10_aspect(question):\n",
    "    res = [ele for ele in aspect_top10 if(ele in question)] \n",
    "    keywords = ' '.join([str(elem) for elem in res])\n",
    "    return keywords\n",
    "        "
   ]
  },
  {
   "cell_type": "code",
   "execution_count": null,
   "metadata": {},
   "outputs": [],
   "source": [
    "df_top10 = df.copy()\n",
    "df_top10['keywords'] = df_top10.primary_question.map(top10_aspect)\n",
    "df_top10 = df_top10[df_top10.keywords != '']\n",
    "df_top10"
   ]
  },
  {
   "cell_type": "code",
   "execution_count": null,
   "metadata": {},
   "outputs": [],
   "source": [
    "df_top20 = df.copy()\n",
    "df_top20['keywords'] = df_top20.primary_question.map(top20_aspect)\n",
    "df_top20 = df_top20[df_top20.keywords != '']\n",
    "df_top20"
   ]
  },
  {
   "cell_type": "code",
   "execution_count": null,
   "metadata": {},
   "outputs": [],
   "source": [
    "# top50_terms = [item[:50] for item in aspects]\n",
    "# aspect_top50 = [item for sublist in top50_terms for item in sublist]\n",
    "# aspect_top50 = [sub.replace('_', ' ') for sub in aspect_top50] "
   ]
  },
  {
   "cell_type": "code",
   "execution_count": null,
   "metadata": {},
   "outputs": [],
   "source": [
    "# def top50_aspect(question):\n",
    "#     res = [ele for ele in aspect_top50 if(ele in question)] \n",
    "#     keywords = ' '.join([str(elem) for elem in res])\n",
    "#     return keywords"
   ]
  },
  {
   "cell_type": "code",
   "execution_count": null,
   "metadata": {},
   "outputs": [],
   "source": [
    "# df_top50 = df.copy()\n",
    "# df_top50['keywords'] = df_top50.primary_question.map(top50_aspect)\n",
    "# df_top50 = df_top50[df_top50.keywords != '']\n",
    "# #df_top50"
   ]
  },
  {
   "cell_type": "code",
   "execution_count": null,
   "metadata": {},
   "outputs": [],
   "source": [
    "df_top20.to_csv('output_dir/top20_QA_set.csv')\n",
    "# df_top50.to_csv('input_csv/top50_QA_set.csv')"
   ]
  },
  {
   "cell_type": "code",
   "execution_count": null,
   "metadata": {},
   "outputs": [],
   "source": [
    "df_sample_top20 = df_top20.sample(n=500)"
   ]
  },
  {
   "cell_type": "code",
   "execution_count": null,
   "metadata": {},
   "outputs": [],
   "source": [
    "df_sample_top20.to_csv('output_dir/sample_500.csv')"
   ]
  },
  {
   "cell_type": "markdown",
   "metadata": {},
   "source": [
    "<b>Evaluate </b>"
   ]
  },
  {
   "cell_type": "markdown",
   "metadata": {},
   "source": [
    "Build bigram trigram set similar to the one used for training"
   ]
  },
  {
   "cell_type": "code",
   "execution_count": null,
   "metadata": {},
   "outputs": [],
   "source": [
    "import codecs"
   ]
  },
  {
   "cell_type": "code",
   "execution_count": null,
   "metadata": {},
   "outputs": [],
   "source": [
    "col_names = ['question_description','primary_question']#,'question_type','question_description','question_title','answer','answer_date','ministry']\n",
    "df = pd.read_csv('input_csv/train.csv',names=col_names,skiprows = 1)"
   ]
  },
  {
   "cell_type": "code",
   "execution_count": null,
   "metadata": {},
   "outputs": [],
   "source": [
    "BAD_CHARS = ['(?) ?????']\n",
    "pat = '|'.join(['({})'.format(re.escape(c)) for c in BAD_CHARS])\n",
    "df = df[~df['primary_question'].str.contains(pat)]"
   ]
  },
  {
   "cell_type": "code",
   "execution_count": null,
   "metadata": {},
   "outputs": [],
   "source": [
    "from nltk.corpus import stopwords\n",
    "stop_words = stopwords.words('english')\n",
    "stop_words.extend(['whether'])"
   ]
  },
  {
   "cell_type": "code",
   "execution_count": null,
   "metadata": {},
   "outputs": [],
   "source": [
    "data = df.primary_question.values.tolist()\n",
    "#print(data)\n",
    "data = [re.sub('\\s+', ' ', sent) for sent in data]\n",
    "data = [re.sub(\"\\'\", \"\", sent) for sent in data]"
   ]
  },
  {
   "cell_type": "code",
   "execution_count": null,
   "metadata": {},
   "outputs": [],
   "source": [
    "def sent_to_words(sentences):\n",
    "    for sentence in sentences:\n",
    "        yield(gensim.utils.simple_preprocess(str(sentence), deacc=True))  # deacc=True removes punctuations\n",
    "\n",
    "data_words = list(sent_to_words(data))\n"
   ]
  },
  {
   "cell_type": "code",
   "execution_count": null,
   "metadata": {},
   "outputs": [],
   "source": [
    "# Build the bigram and trigram models\n",
    "bigram = gensim.models.Phrases(data_words, min_count=5, threshold=1000) # higher threshold fewer phrases.\n",
    "trigram = gensim.models.Phrases(bigram[data_words], threshold=1000)  \n",
    "\n",
    "# Faster way to get a sentence clubbed as a trigram/bigram\n",
    "bigram_mod = gensim.models.phrases.Phraser(bigram)\n",
    "trigram_mod = gensim.models.phrases.Phraser(trigram)\n",
    "\n",
    "# See trigram example\n",
    "#print(trigram_mod[bigram_mod[data_words[0]]])"
   ]
  },
  {
   "cell_type": "code",
   "execution_count": null,
   "metadata": {},
   "outputs": [],
   "source": [
    "# Define functions for stopwords, bigrams, trigrams and lemmatization\n",
    "def remove_stopwords(texts):\n",
    "    return [[word for word in simple_preprocess(str(doc)) if word not in stop_words] for doc in texts]\n",
    "\n",
    "def make_bigrams(texts):\n",
    "    return [bigram_mod[doc] for doc in texts]\n",
    "\n",
    "def make_trigrams(texts):\n",
    "    return [trigram_mod[bigram_mod[doc]] for doc in texts]\n",
    "\n",
    "def lemmatization(texts, allowed_postags=['NOUN', 'ADJ', 'VERB', 'ADV']):\n",
    "    \"\"\"https://spacy.io/api/annotation\"\"\"\n",
    "    texts_out = []\n",
    "    for sent in texts:\n",
    "        doc = nlp(\" \".join(sent)) \n",
    "        texts_out.append([token.lemma_ for token in doc])# if token.pos_ in allowed_postags])\n",
    "    return texts_out"
   ]
  },
  {
   "cell_type": "code",
   "execution_count": null,
   "metadata": {},
   "outputs": [],
   "source": [
    "data_test = df_sample_top20.primary_question.values.tolist()\n",
    "data_test = [re.sub('\\s+', ' ', sent) for sent in data_test]\n",
    "data_test = [re.sub(\"\\'\", \"\", sent) for sent in data_test]\n",
    "data_test_words = list(sent_to_words(data_test))\n",
    "data_words_nostops_test = remove_stopwords(data_test_words)\n",
    "\n",
    "# Form Bigrams\n",
    "data_words_bigrams_test = make_trigrams(data_words_nostops_test)\n",
    "string_list = [' '.join(word) for word in data_words_bigrams_test]\n",
    "with codecs.open('test.txt', 'w','utf-8') as f:\n",
    "    for item in string_list:\n",
    "        print (item ,file=f)"
   ]
  },
  {
   "cell_type": "code",
   "execution_count": null,
   "metadata": {},
   "outputs": [],
   "source": [
    "parser = argparse.ArgumentParser()\n",
    "parser.add_argument(\"-o\", \"--out-dir\", dest=\"out_dir_path\", type=str, metavar='<str>', required=True,\n",
    "                    help=\"The path to the output directory\")\n",
    "parser.add_argument(\"-e\", \"--embdim\", dest=\"emb_dim\", type=int, metavar='<int>', default=200,\n",
    "                    help=\"Embeddings dimension (default=200)\")\n",
    "parser.add_argument(\"-b\", \"--batch-size\", dest=\"batch_size\", type=int, metavar='<int>', default=8,\n",
    "                    help=\"Batch size (default=8)\")\n",
    "parser.add_argument(\"-v\", \"--vocab-size\", dest=\"vocab_size\", type=int, metavar='<int>', default=9000,\n",
    "                    help=\"Vocab size. '0' means no limit (default=9000)\")\n",
    "parser.add_argument(\"-as\", \"--aspect-size\", dest=\"aspect_size\", type=int, metavar='<int>', default=14,\n",
    "                    help=\"The number of aspects specified by users (default=14)\")\n",
    "parser.add_argument(\"--emb\", dest=\"emb_path\", type=str, metavar='<str>', help=\"The path to the word embeddings file\")\n",
    "parser.add_argument(\"--epochs\", dest=\"epochs\", type=int, metavar='<int>', default=10,\n",
    "                    help=\"Number of epochs (default=10)\")\n",
    "parser.add_argument(\"-n\", \"--neg-size\", dest=\"neg_size\", type=int, metavar='<int>', default=4,\n",
    "                    help=\"Number of negative instances (default=4)\")\n",
    "parser.add_argument(\"--maxlen\", dest=\"maxlen\", type=int, metavar='<int>', default=0,\n",
    "                    help=\"Maximum allowed number of words during training. '0' means no limit (default=0)\")\n",
    "parser.add_argument(\"--seed\", dest=\"seed\", type=int, metavar='<int>', default=1234, help=\"Random seed (default=1234)\")\n",
    "parser.add_argument(\"-a\", \"--algorithm\", dest=\"algorithm\", type=str, metavar='<str>', default='adam',\n",
    "                    help=\"Optimization algorithm (rmsprop|sgd|adagrad|adadelta|adam|adamax) (default=adam)\")\n",
    "parser.add_argument(\"--ortho-reg\", dest=\"ortho_reg\", type=float, metavar='<float>', default=0.1,\n",
    "                    help=\"The weight of orthogonol regularizaiton (default=0.1)\")"
   ]
  },
  {
   "cell_type": "code",
   "execution_count": null,
   "metadata": {},
   "outputs": [],
   "source": [
    "args = parser.parse_args(\"--emb w2v_embedding --aspect-size 18 -o output_dir --epochs 50 --batch-size 512 --neg-size 1 --algorithm adam --vocab-size 0\".split())\n",
    "out_dir = args.out_dir_path\n",
    "U.mkdir_p(out_dir)\n",
    "U.print_args(args)"
   ]
  },
  {
   "cell_type": "code",
   "execution_count": null,
   "metadata": {},
   "outputs": [],
   "source": [
    "from keras.preprocessing import sequence\n",
    "import reader as dataset"
   ]
  },
  {
   "cell_type": "code",
   "execution_count": null,
   "metadata": {},
   "outputs": [],
   "source": [
    "vocab, train_x, test_x, overall_maxlen = dataset.fetch_data(vocab_size=args.vocab_size, maxlen=args.maxlen)\n",
    "test_x = sequence.pad_sequences(test_x, maxlen=overall_maxlen)"
   ]
  },
  {
   "cell_type": "code",
   "execution_count": null,
   "metadata": {},
   "outputs": [],
   "source": [
    "from model import create_model\n",
    "import keras.backend as K\n",
    "from optimizers import get_optimizer"
   ]
  },
  {
   "cell_type": "code",
   "execution_count": null,
   "metadata": {},
   "outputs": [],
   "source": [
    "def max_margin_loss(y_true, y_pred):\n",
    "    return K.mean(y_pred)\n",
    "\n",
    "optimizer = get_optimizer(args)\n",
    "model = create_model(args, overall_maxlen, vocab)\n",
    "\n",
    "## Load the save model parameters\n",
    "model.load_weights(out_dir + '/model_param_adamlr1')\n",
    "model.compile(optimizer=optimizer, loss=max_margin_loss, metrics=[max_margin_loss])"
   ]
  },
  {
   "cell_type": "code",
   "execution_count": null,
   "metadata": {},
   "outputs": [],
   "source": [
    "vocab_inv = {}\n",
    "for w, ind in vocab.items():\n",
    "    vocab_inv[ind] = w\n",
    "\n",
    "test_fn = K.function([model.get_layer('sentence_input').input, K.learning_phase()],\n",
    "                     [model.get_layer('att_weights').output, model.get_layer('p_t').output])\n",
    "att_weights, aspect_probs = test_fn([test_x, 0])\n"
   ]
  },
  {
   "cell_type": "code",
   "execution_count": null,
   "metadata": {},
   "outputs": [],
   "source": [
    "att_write = codecs.open(out_dir + '/att_weights', 'w', 'utf-8')\n",
    "\n",
    "\n",
    "list_of_words = []\n",
    "for c in range(len(test_x)):\n",
    "\n",
    "    att_write.write('----------------------------------------\\n')\n",
    "    att_write.write(str(c) + '\\n')\n",
    "\n",
    "    word_index = [i for i in test_x[c] if i != 0]\n",
    "    line_len = len(word_index)\n",
    "    weights = att_weights[c]\n",
    "    weights = weights[(overall_maxlen - line_len):]\n",
    "    words = [vocab_inv[i] for i in word_index]\n",
    "    att_write.write(' '.join(words) + '\\n')\n",
    "    list_of_words.append(words)\n",
    "    for j in range(len(words)):\n",
    "        att_write.write(words[j] + ' ' + str(round(weights[j], 3)) + '\\n')"
   ]
  },
  {
   "cell_type": "code",
   "execution_count": null,
   "metadata": {},
   "outputs": [],
   "source": [
    "cluster_map = {\n",
    "     0: 'Banking and Finance', 1: 'Violence', 2: 'Power', 3: 'Information governance',\n",
    "     4: 'Telecommunication', 5: 'Education', 6: 'Railways',  7: 'Foreign Affairs', 8: 'Ore',\n",
    "     9: 'Misc', 10: 'Commodities', 11: 'Aviation', 12: 'Disabled, Children and Women welfare', 13: 'SME and Tourism', 14: 'Schemes',\n",
    "    15: 'Road Infrastructure', 16: 'Organisation and Companies', 17: 'Water'\n",
    " }"
   ]
  },
  {
   "cell_type": "code",
   "execution_count": null,
   "metadata": {},
   "outputs": [],
   "source": [
    "label_ids = np.argsort(aspect_probs, axis=1)[:, -1]"
   ]
  },
  {
   "cell_type": "code",
   "execution_count": null,
   "metadata": {},
   "outputs": [],
   "source": [
    "predict_labels = [cluster_map[label_id] for label_id in label_ids]\n",
    "# predict_labels = label_ids\n",
    "#predict_labels"
   ]
  },
  {
   "cell_type": "code",
   "execution_count": null,
   "metadata": {},
   "outputs": [],
   "source": [
    "test_labels_file = open('test_labels.txt')\n",
    "test_labels = [line.strip() for line in test_labels_file]\n",
    "\n"
   ]
  },
  {
   "cell_type": "code",
   "execution_count": null,
   "metadata": {},
   "outputs": [],
   "source": [
    "from sklearn.metrics import classification_report,confusion_matrix\n",
    "print(classification_report(test_labels, predict_labels))"
   ]
  },
  {
   "cell_type": "code",
   "execution_count": null,
   "metadata": {},
   "outputs": [],
   "source": []
  },
  {
   "cell_type": "code",
   "execution_count": null,
   "metadata": {},
   "outputs": [],
   "source": []
  },
  {
   "cell_type": "code",
   "execution_count": null,
   "metadata": {},
   "outputs": [],
   "source": []
  },
  {
   "cell_type": "code",
   "execution_count": null,
   "metadata": {},
   "outputs": [],
   "source": []
  },
  {
   "cell_type": "code",
   "execution_count": null,
   "metadata": {},
   "outputs": [],
   "source": []
  },
  {
   "cell_type": "code",
   "execution_count": null,
   "metadata": {},
   "outputs": [],
   "source": []
  },
  {
   "cell_type": "code",
   "execution_count": null,
   "metadata": {},
   "outputs": [],
   "source": []
  },
  {
   "cell_type": "code",
   "execution_count": null,
   "metadata": {},
   "outputs": [],
   "source": []
  },
  {
   "cell_type": "code",
   "execution_count": null,
   "metadata": {},
   "outputs": [],
   "source": []
  },
  {
   "cell_type": "code",
   "execution_count": null,
   "metadata": {},
   "outputs": [],
   "source": []
  },
  {
   "cell_type": "code",
   "execution_count": null,
   "metadata": {},
   "outputs": [],
   "source": []
  },
  {
   "cell_type": "code",
   "execution_count": null,
   "metadata": {},
   "outputs": [],
   "source": []
  },
  {
   "cell_type": "code",
   "execution_count": null,
   "metadata": {},
   "outputs": [],
   "source": []
  },
  {
   "cell_type": "code",
   "execution_count": null,
   "metadata": {},
   "outputs": [],
   "source": []
  },
  {
   "cell_type": "code",
   "execution_count": null,
   "metadata": {},
   "outputs": [],
   "source": []
  },
  {
   "cell_type": "code",
   "execution_count": null,
   "metadata": {},
   "outputs": [],
   "source": []
  },
  {
   "cell_type": "code",
   "execution_count": null,
   "metadata": {},
   "outputs": [],
   "source": []
  },
  {
   "cell_type": "code",
   "execution_count": null,
   "metadata": {},
   "outputs": [],
   "source": []
  }
 ],
 "metadata": {
  "kernelspec": {
   "display_name": "Python 3",
   "language": "python",
   "name": "python3"
  },
  "language_info": {
   "codemirror_mode": {
    "name": "ipython",
    "version": 3
   },
   "file_extension": ".py",
   "mimetype": "text/x-python",
   "name": "python",
   "nbconvert_exporter": "python",
   "pygments_lexer": "ipython3",
   "version": "3.7.0"
  }
 },
 "nbformat": 4,
 "nbformat_minor": 2
}
